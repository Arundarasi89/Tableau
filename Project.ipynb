{
 "cells": [
  {
   "cell_type": "code",
   "execution_count": 1,
   "metadata": {},
   "outputs": [],
   "source": [
    "import numpy as np\n",
    "import pandas as pd"
   ]
  },
  {
   "cell_type": "code",
   "execution_count": 2,
   "metadata": {},
   "outputs": [
    {
     "data": {
      "text/html": [
       "<div>\n",
       "<style scoped>\n",
       "    .dataframe tbody tr th:only-of-type {\n",
       "        vertical-align: middle;\n",
       "    }\n",
       "\n",
       "    .dataframe tbody tr th {\n",
       "        vertical-align: top;\n",
       "    }\n",
       "\n",
       "    .dataframe thead th {\n",
       "        text-align: right;\n",
       "    }\n",
       "</style>\n",
       "<table border=\"1\" class=\"dataframe\">\n",
       "  <thead>\n",
       "    <tr style=\"text-align: right;\">\n",
       "      <th></th>\n",
       "      <th>cve_id</th>\n",
       "      <th>vendor_project</th>\n",
       "      <th>product</th>\n",
       "      <th>vulnerability_name</th>\n",
       "      <th>date_added</th>\n",
       "      <th>short_description</th>\n",
       "      <th>required_action</th>\n",
       "      <th>due_date</th>\n",
       "      <th>notes</th>\n",
       "      <th>grp</th>\n",
       "      <th>pub_date</th>\n",
       "      <th>cvss</th>\n",
       "      <th>cwe</th>\n",
       "      <th>vector</th>\n",
       "      <th>complexity</th>\n",
       "      <th>severity</th>\n",
       "    </tr>\n",
       "  </thead>\n",
       "  <tbody>\n",
       "    <tr>\n",
       "      <th>0</th>\n",
       "      <td>CVE-2021-27104</td>\n",
       "      <td>accellion</td>\n",
       "      <td>FTA</td>\n",
       "      <td>Accellion FTA OS Command Injection Vulnerability</td>\n",
       "      <td>2021-11-03</td>\n",
       "      <td>Accellion FTA 9_12_370 and earlier is affected...</td>\n",
       "      <td>Apply updates per vendor instructions.</td>\n",
       "      <td>2021-11-17</td>\n",
       "      <td>NaN</td>\n",
       "      <td>1</td>\n",
       "      <td>2021-02-16</td>\n",
       "      <td>9.8</td>\n",
       "      <td>CWE-78</td>\n",
       "      <td>NETWORK</td>\n",
       "      <td>LOW</td>\n",
       "      <td>CRITICAL</td>\n",
       "    </tr>\n",
       "    <tr>\n",
       "      <th>1</th>\n",
       "      <td>CVE-2021-27102</td>\n",
       "      <td>accellion</td>\n",
       "      <td>FTA</td>\n",
       "      <td>Accellion FTA OS Command Injection Vulnerability</td>\n",
       "      <td>2021-11-03</td>\n",
       "      <td>Accellion FTA 9_12_411 and earlier is affected...</td>\n",
       "      <td>Apply updates per vendor instructions.</td>\n",
       "      <td>2021-11-17</td>\n",
       "      <td>NaN</td>\n",
       "      <td>1</td>\n",
       "      <td>NaN</td>\n",
       "      <td>NaN</td>\n",
       "      <td>NaN</td>\n",
       "      <td>NaN</td>\n",
       "      <td>NaN</td>\n",
       "      <td>NaN</td>\n",
       "    </tr>\n",
       "    <tr>\n",
       "      <th>2</th>\n",
       "      <td>CVE-2021-27101</td>\n",
       "      <td>accellion</td>\n",
       "      <td>FTA</td>\n",
       "      <td>Accellion FTA SQL Injection Vulnerability</td>\n",
       "      <td>2021-11-03</td>\n",
       "      <td>Accellion FTA 9_12_370 and earlier is affected...</td>\n",
       "      <td>Apply updates per vendor instructions.</td>\n",
       "      <td>2021-11-17</td>\n",
       "      <td>NaN</td>\n",
       "      <td>1</td>\n",
       "      <td>NaN</td>\n",
       "      <td>NaN</td>\n",
       "      <td>NaN</td>\n",
       "      <td>NaN</td>\n",
       "      <td>NaN</td>\n",
       "      <td>NaN</td>\n",
       "    </tr>\n",
       "    <tr>\n",
       "      <th>3</th>\n",
       "      <td>CVE-2021-27103</td>\n",
       "      <td>accellion</td>\n",
       "      <td>FTA</td>\n",
       "      <td>Accellion FTA SSRF Vulnerability</td>\n",
       "      <td>2021-11-03</td>\n",
       "      <td>Accellion FTA 9_12_411 and earlier is affected...</td>\n",
       "      <td>Apply updates per vendor instructions.</td>\n",
       "      <td>2021-11-17</td>\n",
       "      <td>NaN</td>\n",
       "      <td>1</td>\n",
       "      <td>NaN</td>\n",
       "      <td>NaN</td>\n",
       "      <td>NaN</td>\n",
       "      <td>NaN</td>\n",
       "      <td>NaN</td>\n",
       "      <td>NaN</td>\n",
       "    </tr>\n",
       "    <tr>\n",
       "      <th>4</th>\n",
       "      <td>CVE-2021-21017</td>\n",
       "      <td>adobe</td>\n",
       "      <td>Acrobat and Reader</td>\n",
       "      <td>Adobe Acrobat and Reader Heap-based Buffer Ove...</td>\n",
       "      <td>2021-11-03</td>\n",
       "      <td>Acrobat Reader DC versions versions 2020.013.2...</td>\n",
       "      <td>Apply updates per vendor instructions.</td>\n",
       "      <td>2021-11-17</td>\n",
       "      <td>NaN</td>\n",
       "      <td>1</td>\n",
       "      <td>NaN</td>\n",
       "      <td>NaN</td>\n",
       "      <td>NaN</td>\n",
       "      <td>NaN</td>\n",
       "      <td>NaN</td>\n",
       "      <td>NaN</td>\n",
       "    </tr>\n",
       "  </tbody>\n",
       "</table>\n",
       "</div>"
      ],
      "text/plain": [
       "           cve_id vendor_project             product  \\\n",
       "0  CVE-2021-27104      accellion                 FTA   \n",
       "1  CVE-2021-27102      accellion                 FTA   \n",
       "2  CVE-2021-27101      accellion                 FTA   \n",
       "3  CVE-2021-27103      accellion                 FTA   \n",
       "4  CVE-2021-21017          adobe  Acrobat and Reader   \n",
       "\n",
       "                                  vulnerability_name  date_added  \\\n",
       "0   Accellion FTA OS Command Injection Vulnerability  2021-11-03   \n",
       "1   Accellion FTA OS Command Injection Vulnerability  2021-11-03   \n",
       "2          Accellion FTA SQL Injection Vulnerability  2021-11-03   \n",
       "3                   Accellion FTA SSRF Vulnerability  2021-11-03   \n",
       "4  Adobe Acrobat and Reader Heap-based Buffer Ove...  2021-11-03   \n",
       "\n",
       "                                   short_description  \\\n",
       "0  Accellion FTA 9_12_370 and earlier is affected...   \n",
       "1  Accellion FTA 9_12_411 and earlier is affected...   \n",
       "2  Accellion FTA 9_12_370 and earlier is affected...   \n",
       "3  Accellion FTA 9_12_411 and earlier is affected...   \n",
       "4  Acrobat Reader DC versions versions 2020.013.2...   \n",
       "\n",
       "                          required_action    due_date notes  grp    pub_date  \\\n",
       "0  Apply updates per vendor instructions.  2021-11-17   NaN    1  2021-02-16   \n",
       "1  Apply updates per vendor instructions.  2021-11-17   NaN    1         NaN   \n",
       "2  Apply updates per vendor instructions.  2021-11-17   NaN    1         NaN   \n",
       "3  Apply updates per vendor instructions.  2021-11-17   NaN    1         NaN   \n",
       "4  Apply updates per vendor instructions.  2021-11-17   NaN    1         NaN   \n",
       "\n",
       "   cvss     cwe   vector complexity  severity  \n",
       "0   9.8  CWE-78  NETWORK        LOW  CRITICAL  \n",
       "1   NaN     NaN      NaN        NaN       NaN  \n",
       "2   NaN     NaN      NaN        NaN       NaN  \n",
       "3   NaN     NaN      NaN        NaN       NaN  \n",
       "4   NaN     NaN      NaN        NaN       NaN  "
      ]
     },
     "execution_count": 2,
     "metadata": {},
     "output_type": "execute_result"
    }
   ],
   "source": [
    "df = pd.concat(map(pd.read_csv,['2022-12-09-enriched.csv','2022-07-04-enriched.csv','2022-06-27-enriched.csv','2022-06-09-enriched.csv','2022-06-08-enriched.csv']))\n",
    "df.head()"
   ]
  },
  {
   "cell_type": "code",
   "execution_count": 3,
   "metadata": {},
   "outputs": [
    {
     "data": {
      "text/plain": [
       "(3984, 16)"
      ]
     },
     "execution_count": 3,
     "metadata": {},
     "output_type": "execute_result"
    }
   ],
   "source": [
    "df.shape"
   ]
  },
  {
   "cell_type": "code",
   "execution_count": 4,
   "metadata": {},
   "outputs": [
    {
     "data": {
      "text/plain": [
       "Index(['cve_id', 'vendor_project', 'product', 'vulnerability_name',\n",
       "       'date_added', 'short_description', 'required_action', 'due_date',\n",
       "       'notes', 'grp', 'pub_date', 'cvss', 'cwe', 'vector', 'complexity',\n",
       "       'severity'],\n",
       "      dtype='object')"
      ]
     },
     "execution_count": 4,
     "metadata": {},
     "output_type": "execute_result"
    }
   ],
   "source": [
    "df.columns"
   ]
  },
  {
   "cell_type": "code",
   "execution_count": 5,
   "metadata": {},
   "outputs": [
    {
     "name": "stdout",
     "output_type": "stream",
     "text": [
      "<class 'pandas.core.frame.DataFrame'>\n",
      "Int64Index: 3984 entries, 0 to 773\n",
      "Data columns (total 16 columns):\n",
      " #   Column              Non-Null Count  Dtype  \n",
      "---  ------              --------------  -----  \n",
      " 0   cve_id              3984 non-null   object \n",
      " 1   vendor_project      3984 non-null   object \n",
      " 2   product             3979 non-null   object \n",
      " 3   vulnerability_name  3984 non-null   object \n",
      " 4   date_added          3984 non-null   object \n",
      " 5   short_description   3954 non-null   object \n",
      " 6   required_action     3984 non-null   object \n",
      " 7   due_date            3984 non-null   object \n",
      " 8   notes               77 non-null     object \n",
      " 9   grp                 3984 non-null   int64  \n",
      " 10  pub_date            3106 non-null   object \n",
      " 11  cvss                2484 non-null   float64\n",
      " 12  cwe                 3090 non-null   object \n",
      " 13  vector              2484 non-null   object \n",
      " 14  complexity          2484 non-null   object \n",
      " 15  severity            2484 non-null   object \n",
      "dtypes: float64(1), int64(1), object(14)\n",
      "memory usage: 529.1+ KB\n"
     ]
    }
   ],
   "source": [
    "df.info()"
   ]
  },
  {
   "cell_type": "code",
   "execution_count": 6,
   "metadata": {},
   "outputs": [
    {
     "data": {
      "text/plain": [
       "cve_id                   0\n",
       "vendor_project           0\n",
       "product                  5\n",
       "vulnerability_name       0\n",
       "date_added               0\n",
       "short_description       30\n",
       "required_action          0\n",
       "due_date                 0\n",
       "notes                 3907\n",
       "grp                      0\n",
       "pub_date               878\n",
       "cvss                  1500\n",
       "cwe                    894\n",
       "vector                1500\n",
       "complexity            1500\n",
       "severity              1500\n",
       "dtype: int64"
      ]
     },
     "execution_count": 6,
     "metadata": {},
     "output_type": "execute_result"
    }
   ],
   "source": [
    "df.isna().sum()"
   ]
  },
  {
   "cell_type": "code",
   "execution_count": 7,
   "metadata": {},
   "outputs": [],
   "source": [
    "df1 = df.drop(columns = ['notes','short_description'])"
   ]
  },
  {
   "cell_type": "code",
   "execution_count": 8,
   "metadata": {},
   "outputs": [
    {
     "data": {
      "text/plain": [
       "cve_id                   0\n",
       "vendor_project           0\n",
       "product                  5\n",
       "vulnerability_name       0\n",
       "date_added               0\n",
       "required_action          0\n",
       "due_date                 0\n",
       "grp                      0\n",
       "pub_date               878\n",
       "cvss                  1500\n",
       "cwe                    894\n",
       "vector                1500\n",
       "complexity            1500\n",
       "severity              1500\n",
       "dtype: int64"
      ]
     },
     "execution_count": 8,
     "metadata": {},
     "output_type": "execute_result"
    }
   ],
   "source": [
    "df1.isna().sum()"
   ]
  },
  {
   "cell_type": "code",
   "execution_count": 9,
   "metadata": {},
   "outputs": [],
   "source": [
    "#missing value columns - product, short_description, pub_date, cvss, cwe, vector, complexity, severity"
   ]
  },
  {
   "cell_type": "code",
   "execution_count": 10,
   "metadata": {},
   "outputs": [],
   "source": [
    "#imputation using mean, median and mode values"
   ]
  },
  {
   "cell_type": "code",
   "execution_count": 11,
   "metadata": {},
   "outputs": [
    {
     "data": {
      "text/plain": [
       "374"
      ]
     },
     "execution_count": 11,
     "metadata": {},
     "output_type": "execute_result"
    }
   ],
   "source": [
    "#unique values of product column\n",
    "df1['product'].nunique()"
   ]
  },
  {
   "cell_type": "code",
   "execution_count": 12,
   "metadata": {},
   "outputs": [
    {
     "data": {
      "text/plain": [
       "array(['FTA', 'Acrobat and Reader', 'ColdFusion', 'Flash Player',\n",
       "       'Cameras and Network Video Recorder (NVR)', 'Android OS', 'Struts',\n",
       "       'HTTP Server', 'Shiro', 'Solr', 'iOS and iPadOS', 'FaceTime',\n",
       "       'iOS', 'iOS and macOS', 'iOS Mail', 'macOS', 'Safari',\n",
       "       'iOS, macOS, and iPadOS',\n",
       "       'Buffalo WSR-2533DHPL2 and WSR-2533DHP3 firmware',\n",
       "       'Arm Trusted Firmware', 'Mali Graphics Processing Unit (GPU)',\n",
       "       'Confluence', 'Confluence Server', 'Crowd and Crowd Data Center',\n",
       "       'Atlassian Confluence Server', 'BillQuick Web Suite',\n",
       "       'Adaptive Security Appliance (ASA) and Firepower Threat Defense (FTD)',\n",
       "       'HyperFlex HX', 'IOS and IOS XE', 'IOS XR', 'IP Phones',\n",
       "       'RV320 and RV325 Routers', 'StoreFront Server',\n",
       "       'Application Delivery Controller (ADC), Gateway, and SDWAN WANOP',\n",
       "       'Application Delivery Controller (ADC) and Gateway',\n",
       "       'Workspace (for Windows)', 'DIR-825 R1', 'DNS-320',\n",
       "       'DotNetNuke (DNN)', 'Desktop Community Edition', 'Vigor Router(s)',\n",
       "       'Drupal', 'ExifTool', 'Exim', 'EyesOfNetwork', 'BIG-IP',\n",
       "       'Access Management server', 'FortiOS', 'Chrome for Android',\n",
       "       'Chrome', 'Chromium V8 Engine', 'Chromium Blink',\n",
       "       'IBM Data Risk Manager', 'IBM Planning Analytics', 'ImageMagick',\n",
       "       'MobileIron Core & Connector', 'Kaseya VSA', 'Liferay Portal',\n",
       "       'McAfee Total Protection (MTP)', 'Micro Focus Access Manager',\n",
       "       'Micro Focus Operation Bridge Reporter (OBR)', 'Windows',\n",
       "       'Microsoft Azure Open Management Infrastructure (OMI)',\n",
       "       'Microsoft Edge, Internet Explorer', 'Microsoft Defender',\n",
       "       'Microsoft Desktop Window Manager (DWM)', 'Microsoft MSHTML',\n",
       "       'Microsoft Enhanced Cryptographic Provider',\n",
       "       'Windows, Windows Adobe Type Manager Library',\n",
       "       'Microsoft Exchange Server', 'Internet Information Services (IIS)',\n",
       "       'SMBv1 server', 'Remote Desktop Services', 'Win32k',\n",
       "       'Hyper-V RemoteFX vGPU', 'Microsoft .NET Framework',\n",
       "       'Internet Explorer Scripting Engine', 'Office', 'MSCOMCTL.OCX',\n",
       "       'Internet Explorer', 'MSHTML engine',\n",
       "       'Windows, Windows Server, Office', 'Microsoft Outlook',\n",
       "       'Netlogon Remote Protocol (MS-NRPC)', 'Scripting Engine',\n",
       "       'Windows CryptoAPI', 'SharePoint',\n",
       "       'Microsoft .NET Framework, Microsoft SharePoint, Visual Studio',\n",
       "       'Microsoft Visio/Office', 'nsDocShell destructor',\n",
       "       'ReadableStream', 'IonMonkey JIT compiler', 'Nagios XI',\n",
       "       'NETGEAR JGS516PE devices', 'Netis WF2419', 'Oracle Coherence',\n",
       "       'Oracle Reports Developer', 'Oracle Solaris',\n",
       "       'Oracle WebLogic Server', 'PlaySMS', 'ASP.NET AJAX',\n",
       "       'Pulse Connect Secure', 'Pulse Connect Secure, Policy Secure',\n",
       "       'Snapdragon Auto, Snapdragon Compute, Snapdragon Connectivity, Snapdragon Consumer IOT, Snapdragon Industrial IOT, Snapdragon Mobile, Snapdragon Voice & Music, Snapdragon Wearables',\n",
       "       'rConfig', 'Jungle Software Development Kit (SDK)',\n",
       "       'Roundcube Webmail', 'Salt', 'SAP CRM',\n",
       "       'SAP NetWeaver Application Server Java platforms',\n",
       "       'SAP NetWeaver AS JAVA',\n",
       "       'SAP NetWeaver AS JAVA (LM Configuration Wizard)',\n",
       "       'SAP Solution Manager (User Experience Monitoring)',\n",
       "       'SAP NetWeaver AS Java', 'SIMalliance Toolbox (S@T) Browser',\n",
       "       'SolarWinds Orion Platform', 'SolarWinds nServ-U',\n",
       "       'SolarWinds Virtualization Manager', 'Sonatype Nexus Repository',\n",
       "       'SonicWall Email Security', 'SMA100', 'SonicWall SSLVPN SMA100',\n",
       "       'Sophos XG Firewall devices',\n",
       "       'Sumavision Enhanced Multimedia Router (EMR)',\n",
       "       'Symantec Messaging Gateway', 'TeamViewer Desktop',\n",
       "       'ASP.NET AJAX and Sitefinity', 'Tenda AC11 devices',\n",
       "       'Tenda AC15 AC1900', 'Tenda AC7, AC9, and AC10 devices', 'NoneCms',\n",
       "       'ThinkPHP', 'Trend Micro OfficeScan',\n",
       "       'Trend Micro Apex One and OfficeScan XG',\n",
       "       'Trend Micro Apex One, OfficeScan XG and Worry-Free Business Security',\n",
       "       'Trend Micro Apex One and Worry-Free Business Security',\n",
       "       'Trend Micro Apex One and OfficeScan XG server',\n",
       "       'Trend Micro Multiple Products', 'NVMS-1000', 'Unraid',\n",
       "       'vBulletin', 'ESXi, Horizon DaaS Appliances', 'ESXi',\n",
       "       'VMware Fusion, VMware Remote Console for Mac, and Horizon Client for Mac',\n",
       "       'vCenter Server',\n",
       "       'VMware Workspace One Access, Access Connector, Identity Manager, and Identity Manager Connector',\n",
       "       'File Manager', 'Snap Creek Duplicator', 'Social-Warfare',\n",
       "       'Device Management Platform', 'ManageEngine ADSelfServicePlus',\n",
       "       'ManageEngine Desktop Central',\n",
       "       'ManageEngine ServiceDesk Plus (SDP)',\n",
       "       'Unified Security Gateway (USG)', 'Exiftool', 'Exchange',\n",
       "       'RouterOS', 'Apache',\n",
       "       'ManageEngine ServiceDesk Plus (SDP) / SupportCenter Plus',\n",
       "       'Desktop Central', 'Kernel', 'Nexus Repository Manager', 'GoAhead',\n",
       "       'JBoss Application Server', 'JBoss Seam 2', nan, 'AdminLTE',\n",
       "       'mongo-express', 'Log4j2', 'Security cameras web server',\n",
       "       'WinVerifyTrust function', 'WebLogic Server',\n",
       "       'Zimbra Collaboration (ZCS)', 'FortiOS and FortiProxy', 'PAN-OS',\n",
       "       'Mail Transfer Agent (MTA)',\n",
       "       'WebSphere Application Server and Server Hypervisor Edition',\n",
       "       'Primefaces Application', 'Kibana',\n",
       "       'WARP, IPVPN, and MPVPN software', 'October CMS',\n",
       "       'Aviatrix Controller', 'Exchange Server',\n",
       "       'vRealize Operations Manager API',\n",
       "       'System Information Library for Node.JS',\n",
       "       'BIG-IP Traffic Management Microkernel',\n",
       "       'Intelligence Enterprise Edition', 'Drupal core', 'Airflow',\n",
       "       \"Airflow's Experimental API\", 'Struts 1', 'Struts 2', 'Serv-U',\n",
       "       'SMA 100 Appliances', 'UCM6200',\n",
       "       'Active Management Technology (AMT), Small Business Technology (SBT), and Standard Manageability',\n",
       "       'Bourne-Again Shell (Bash)', 'SMBv3',\n",
       "       'Jenkins Stapler Web Framework', 'SMBv1', 'ActiveMQ',\n",
       "       'DIR-645 Router', 'HTTP.sys', 'OS X', 'Webkit',\n",
       "       'Commerce and Magento Open Source', 'WinRAR', 'PHPUnit', 'Word',\n",
       "       'Graphics Component', 'Frontend', 'Webmail',\n",
       "       'Small Business RV160, RV260, RV340, and RV345 Series Routers',\n",
       "       'Tomcat', 'IPv6', 'Exim Internet Mailer',\n",
       "       'Small Business RV320 and RV325 Dual Gigabit WAN VPN Routers',\n",
       "       'Excel', 'ChakraCore scripting engine', 'IOS Software',\n",
       "       'IOS, XR, and XE Software', 'IOS XE Software',\n",
       "       'IOS and IOS XE Software',\n",
       "       'IOS Software and Cisco IOS XE Software',\n",
       "       'Catalyst 4500 Series Switches and Cisco Catalyst 4500-X Series Switches',\n",
       "       'Malware Protection Engine', 'IOS software',\n",
       "       'Catalyst 6800 Series Switches', 'Graphics Device Interface (GDI)',\n",
       "       'SIMATIC CP', 'Java SE', 'PowerPoint', 'ATM Font Driver',\n",
       "       'Reader and Acrobat', 'Firefox', 'Reader', 'Java SE JDK and JRE',\n",
       "       'Forefront Threat Management Gateway (TMG)', 'VirtualBox',\n",
       "       'vCenter Server and Cloud Foundation',\n",
       "       'Jira Server and Data Center', 'Wireless Router DGN2200',\n",
       "       'Multiple Routers', 'BlazeDS', 'SonicOS', 'Task Scheduler',\n",
       "       'Firebox and XTM Appliances', 'MiCollab, MiVoice Business Express',\n",
       "       'XP', 'ShareFile', 'DIR-610 Devices',\n",
       "       'Multiple Network-Attached Storage (NAS) Devices', 'OpenSMTPD',\n",
       "       'Spring Cloud Configuration (Config) Server', 'SG UTM', 'Helpdesk',\n",
       "       'Kylin', 'Junos OS', 'Core',\n",
       "       'BI Publisher (Formerly XML Publisher)', 'Webmin',\n",
       "       'SD-WAN and NetScaler', 'FastCGI Process Manager (FPM)',\n",
       "       'Xperience', 'Matrix Project Plugin', 'SD-WAN Edge', 'N1A1 NAS',\n",
       "       'Spring Data Commons', 'KACE System Management Appliance',\n",
       "       'Secure Access Control System (ACS)', 'VPN Routers',\n",
       "       'DGN2200 Devices',\n",
       "       'NetScaler SD-WAN Enterprise, CloudBridge Virtual WAN, and XenMobile Server',\n",
       "       'Wireless Access Point (WAP) Devices', 'DCS-930L Devices',\n",
       "       'WNR2000v5 Router', 'Ruby on Rails',\n",
       "       'Unified Data Protection (UDP)', 'Multiple Archer Devices',\n",
       "       'Elasticsearch', 'Multiple Devices',\n",
       "       'Prime Data Center Network Manager (DCNM)',\n",
       "       'Kerberos Key Distribution Center (KDC)', 'HTTP File Server (HFS)',\n",
       "       'DSL-2760U',\n",
       "       'ProCurve Manager (PCM), PCM+, Identity Driven Manager (IDM), and Application Lifecycle Management',\n",
       "       'PHP', 'phpMyAdmin', 'OpenView Network Node Manager',\n",
       "       'Chromium V8', 'Debian-specific Redis Servers',\n",
       "       'Secure Remote Access (SRA)', 'DirectX Graphics Kernel (DXGKRNL)',\n",
       "       'Edge and Internet Explorer', 'Edge',\n",
       "       'Client-Server Run-time Subsystem (CSRSS)',\n",
       "       'Firefox and Thunderbird', 'Fusion Middleware',\n",
       "       'Ancillary Function Driver (afd.sys)', 'Apex Central', 'Firewall',\n",
       "       'Network Attached Storage (NAS)', 'dbutil Driver',\n",
       "       'Gigabit Passive Optical Network (GPON) Routers',\n",
       "       'Spring Framework', 'Sudo', 'HTTP Protocol Stack',\n",
       "       'Firebox and XTM', 'Active Directory', 'Pixel', 'Checkbox Survey',\n",
       "       'QNAP Network-Attached Storage (NAS)',\n",
       "       'User Interface (UI) for ASP.NET AJAX',\n",
       "       'Virtual System/Server Administrator (VSA)',\n",
       "       'Workspace ONE Access and Identity Manager', 'Multiple Products',\n",
       "       'DNS-320 Storage Device', 'U.motion Builder',\n",
       "       'VTScada (formerly VTS)', 'Web Studio', 'AirOS',\n",
       "       'OmniPCX Enterprise', 'Collaboration Suite (ZCS)', 'WhatsApp',\n",
       "       'Script Security Plugin', 'OpenSSL', 'Multiple Firewalls',\n",
       "       'Spring Cloud Gateway', 'Update Notification Manager', 'WebKitGTK',\n",
       "       'XML Core Services', 'Ghostscript', 'Internet Explorer and Edge',\n",
       "       'Adaptive Security Appliance (ASA)', 'Solaris',\n",
       "       'Flash Player and AIR', 'Silverlight',\n",
       "       'Input Method Editor (IME) Japanese', 'InfoSphere BigInsights',\n",
       "       'Java Runtime Environment (JRE)', 'JBoss',\n",
       "       'Confluence Server/Data Center',\n",
       "       'Meeting Owl Pro and Whiteboard Owl', 'Photo Station', 'QTS',\n",
       "       'RV Series Routers', 'Acrobat and Reader, Flash Player',\n",
       "       'NetWeaver', 'MiVoice Connect', 'Chromium', 'Polkit',\n",
       "       'Collaboration (ZCS)', 'UnRAR', 'dotCMS', 'CouchDB', 'APISIX',\n",
       "       'Spring Cloud', 'WebRTC', 'Grafana', 'DOPSoft 2',\n",
       "       'iOS, macOS, watchOS', 'Archive_Tar', 'DIR-816L', 'DIR-820L',\n",
       "       'iOS, iPadOS, and macOS', 'FortiOS and FortiADC', 'DIR-300 Router',\n",
       "       'Apex One and Apex One as a Service', 'ACDB Audio Driver',\n",
       "       'ManageEngine', 'Bitbucket Server and Data Center',\n",
       "       'Windows COM+ Event System Service', 'AnyConnect Secure',\n",
       "       'Mobile Devices', 'Zimbra Collaboration Suite'], dtype=object)"
      ]
     },
     "execution_count": 12,
     "metadata": {},
     "output_type": "execute_result"
    }
   ],
   "source": [
    "df1['product'].unique()"
   ]
  },
  {
   "cell_type": "code",
   "execution_count": 13,
   "metadata": {},
   "outputs": [
    {
     "data": {
      "text/plain": [
       "0    Windows\n",
       "dtype: object"
      ]
     },
     "execution_count": 13,
     "metadata": {},
     "output_type": "execute_result"
    }
   ],
   "source": [
    "df1['product'].mode()"
   ]
  },
  {
   "cell_type": "code",
   "execution_count": 14,
   "metadata": {},
   "outputs": [],
   "source": [
    "df1['product'] = df1['product'].fillna(df1['product'].mode()[0])"
   ]
  },
  {
   "cell_type": "code",
   "execution_count": 15,
   "metadata": {},
   "outputs": [
    {
     "data": {
      "text/plain": [
       "32"
      ]
     },
     "execution_count": 15,
     "metadata": {},
     "output_type": "execute_result"
    }
   ],
   "source": [
    "df1['cvss'].nunique()"
   ]
  },
  {
   "cell_type": "code",
   "execution_count": 16,
   "metadata": {},
   "outputs": [
    {
     "data": {
      "text/plain": [
       "array([ 9.8,  nan,  8.8,  5.5,  7.8,  7. ,  8.1,  7.5, 10. ,  4.3,  6.1,\n",
       "        6.5,  9.6,  9.1,  6.3,  8.4,  7.2,  9. ,  5.3,  6.8,  6.6,  4.9,\n",
       "        9.9,  7.1,  5.4,  7.4,  5.9,  8. ,  8.6,  4.7,  6.4,  8.2,  3.1])"
      ]
     },
     "execution_count": 16,
     "metadata": {},
     "output_type": "execute_result"
    }
   ],
   "source": [
    "df1['cvss'].unique()"
   ]
  },
  {
   "cell_type": "code",
   "execution_count": 17,
   "metadata": {},
   "outputs": [
    {
     "data": {
      "image/png": "[encoded data removed]",
      "text/plain": [
       "<Figure size 432x288 with 1 Axes>"
      ]
     },
     "metadata": {
      "needs_background": "light"
     },
     "output_type": "display_data"
    }
   ],
   "source": [
    "import seaborn as sns\n",
    "import matplotlib.pyplot as plt\n",
    "sns.distplot(df1['cvss'])\n",
    "plt.show()"
   ]
  },
  {
   "cell_type": "code",
   "execution_count": 18,
   "metadata": {},
   "outputs": [
    {
     "data": {
      "text/plain": [
       "8.8"
      ]
     },
     "execution_count": 18,
     "metadata": {},
     "output_type": "execute_result"
    }
   ],
   "source": [
    "df1['cvss'].median()"
   ]
  },
  {
   "cell_type": "code",
   "execution_count": 19,
   "metadata": {},
   "outputs": [],
   "source": [
    "df1['cvss'] = df1['cvss'].fillna(8.8)"
   ]
  },
  {
   "cell_type": "code",
   "execution_count": 20,
   "metadata": {},
   "outputs": [
    {
     "data": {
      "text/plain": [
       "81"
      ]
     },
     "execution_count": 20,
     "metadata": {},
     "output_type": "execute_result"
    }
   ],
   "source": [
    "df1['cwe'].nunique()"
   ]
  },
  {
   "cell_type": "code",
   "execution_count": 21,
   "metadata": {},
   "outputs": [
    {
     "data": {
      "text/plain": [
       "array(['CWE-78', nan, 'CWE-787', 'NVD-CWE-noinfo', 'CWE-918', 'CWE-843',\n",
       "       'CWE-131', 'CWE-77', 'CWE-521', 'CWE-20', 'CWE-434', 'CWE-290',\n",
       "       'CWE-89', 'CWE-416', 'CWE-502', 'CWE-22', 'CWE-284', 'CWE-74',\n",
       "       'CWE-917', 'CWE-190', 'CWE-665', 'CWE-362,CWE-269', 'CWE-79',\n",
       "       'CWE-120', 'CWE-863', 'CWE-494', 'CWE-134', 'CWE-400', 'CWE-200',\n",
       "       'CWE-611', 'CWE-862', 'CWE-326', 'CWE-732', 'CWE-119', 'CWE-798',\n",
       "       'CWE-269', 'CWE-22,CWE-829', 'CWE-306', 'CWE-287',\n",
       "       'CWE-787,CWE-843', 'CWE-119,CWE-20', 'CWE-22,CWE-94', 'CWE-522',\n",
       "       'CWE-94', 'CWE-255', 'CWE-264', 'CWE-347', 'CWE-787,CWE-190',\n",
       "       'CWE-399', 'CWE-787,CWE-416', 'CWE-330', 'CWE-295',\n",
       "       'CWE-362,CWE-416', 'NVD-CWE-Other', 'CWE-755', 'CWE-77,CWE-787',\n",
       "       'CWE-552', 'CWE-668', 'CWE-425', 'CWE-94,CWE-306',\n",
       "       'CWE-287,CWE-697', 'CWE-59', 'CWE-312', 'CWE-285',\n",
       "       'CWE-640,CWE-287', 'CWE-404', 'CWE-254', 'CWE-125', 'CWE-772',\n",
       "       'CWE-362', 'CWE-352', 'CWE-78,CWE-755', 'CWE-693', 'CWE-704',\n",
       "       'CWE-19', 'CWE-189', 'CWE-193', 'CWE-415', 'CWE-281',\n",
       "       'CWE-125,CWE-787', 'CWE-94,CWE-668', 'CWE-129'], dtype=object)"
      ]
     },
     "execution_count": 21,
     "metadata": {},
     "output_type": "execute_result"
    }
   ],
   "source": [
    "df1['cwe'].unique()"
   ]
  },
  {
   "cell_type": "code",
   "execution_count": 22,
   "metadata": {},
   "outputs": [
    {
     "data": {
      "text/plain": [
       "0    NVD-CWE-noinfo\n",
       "dtype: object"
      ]
     },
     "execution_count": 22,
     "metadata": {},
     "output_type": "execute_result"
    }
   ],
   "source": [
    "df1['cwe'].mode()"
   ]
  },
  {
   "cell_type": "code",
   "execution_count": 23,
   "metadata": {},
   "outputs": [],
   "source": [
    "df1['cwe']=df1['cwe'].fillna('NVD-CWE-noinfo')"
   ]
  },
  {
   "cell_type": "code",
   "execution_count": 24,
   "metadata": {},
   "outputs": [
    {
     "data": {
      "text/plain": [
       "3"
      ]
     },
     "execution_count": 24,
     "metadata": {},
     "output_type": "execute_result"
    }
   ],
   "source": [
    "df1['vector'].nunique()"
   ]
  },
  {
   "cell_type": "code",
   "execution_count": 25,
   "metadata": {},
   "outputs": [
    {
     "data": {
      "text/plain": [
       "array(['NETWORK', nan, 'LOCAL', 'ADJACENT_NETWORK'], dtype=object)"
      ]
     },
     "execution_count": 25,
     "metadata": {},
     "output_type": "execute_result"
    }
   ],
   "source": [
    "df1['vector'].unique()"
   ]
  },
  {
   "cell_type": "code",
   "execution_count": 26,
   "metadata": {},
   "outputs": [
    {
     "data": {
      "text/plain": [
       "0    NETWORK\n",
       "dtype: object"
      ]
     },
     "execution_count": 26,
     "metadata": {},
     "output_type": "execute_result"
    }
   ],
   "source": [
    "df1['vector'].mode()"
   ]
  },
  {
   "cell_type": "code",
   "execution_count": 27,
   "metadata": {},
   "outputs": [],
   "source": [
    "df1['vector']=df1['vector'].fillna('NETWORK')"
   ]
  },
  {
   "cell_type": "code",
   "execution_count": 28,
   "metadata": {},
   "outputs": [
    {
     "data": {
      "text/plain": [
       "2"
      ]
     },
     "execution_count": 28,
     "metadata": {},
     "output_type": "execute_result"
    }
   ],
   "source": [
    "df1['complexity'].nunique()"
   ]
  },
  {
   "cell_type": "code",
   "execution_count": 29,
   "metadata": {},
   "outputs": [
    {
     "data": {
      "text/plain": [
       "array(['LOW', nan, 'HIGH'], dtype=object)"
      ]
     },
     "execution_count": 29,
     "metadata": {},
     "output_type": "execute_result"
    }
   ],
   "source": [
    "df1['complexity'].unique()"
   ]
  },
  {
   "cell_type": "code",
   "execution_count": 30,
   "metadata": {},
   "outputs": [
    {
     "data": {
      "text/plain": [
       "0    LOW\n",
       "dtype: object"
      ]
     },
     "execution_count": 30,
     "metadata": {},
     "output_type": "execute_result"
    }
   ],
   "source": [
    "df1['complexity'].mode()"
   ]
  },
  {
   "cell_type": "code",
   "execution_count": 31,
   "metadata": {},
   "outputs": [],
   "source": [
    "df1['complexity']=df1['complexity'].fillna('LOW')"
   ]
  },
  {
   "cell_type": "code",
   "execution_count": 32,
   "metadata": {},
   "outputs": [
    {
     "data": {
      "text/plain": [
       "0    HIGH\n",
       "dtype: object"
      ]
     },
     "execution_count": 32,
     "metadata": {},
     "output_type": "execute_result"
    }
   ],
   "source": [
    "df1['severity'].mode()"
   ]
  },
  {
   "cell_type": "code",
   "execution_count": 33,
   "metadata": {},
   "outputs": [],
   "source": [
    "df1['severity']=df1['severity'].fillna('HIGH')"
   ]
  },
  {
   "cell_type": "code",
   "execution_count": 34,
   "metadata": {},
   "outputs": [
    {
     "data": {
      "text/plain": [
       "486"
      ]
     },
     "execution_count": 34,
     "metadata": {},
     "output_type": "execute_result"
    }
   ],
   "source": [
    "df1['pub_date'].nunique()"
   ]
  },
  {
   "cell_type": "code",
   "execution_count": 35,
   "metadata": {},
   "outputs": [
    {
     "data": {
      "text/plain": [
       "array(['2021-02-16', nan, '2020-06-09', '2021-09-08', '2021-03-31',\n",
       "       '2021-08-03', '2021-01-12', '2019-09-11', '2019-05-16',\n",
       "       '2015-11-18', '2020-02-07', '2021-06-09', '2020-11-20',\n",
       "       '2017-05-12', '2022-01-13', '2021-02-11', '2021-09-02',\n",
       "       '2018-05-19', '2018-09-25', '2018-02-06', '2020-04-08',\n",
       "       '2019-10-11', '2020-03-10', '2017-09-15', '2021-10-07',\n",
       "       '2021-10-05', '2019-04-08', '2016-06-07', '2019-12-30',\n",
       "       '2020-12-11', '2017-03-11', '2018-08-22', '2021-08-24',\n",
       "       '2019-03-05', '2020-12-08', '2021-10-19', '2021-04-02',\n",
       "       '2020-06-05', '2021-04-29', '2021-05-25', '2021-05-10',\n",
       "       '2019-04-18', '2021-08-30', '2019-06-03', '2019-03-25',\n",
       "       '2021-10-22', '2020-07-22', '2020-10-21', '2021-05-06',\n",
       "       '2018-03-28', '2020-02-05', '2020-08-29', '2020-09-23',\n",
       "       '2020-04-15', '2019-01-24', '2018-06-07', '2019-08-29',\n",
       "       '2020-07-10', '2019-12-27', '2019-05-22', '2021-01-29',\n",
       "       '2021-02-02', '2019-07-03', '2017-07-20', '2019-08-28',\n",
       "       '2020-02-01', '2018-03-29', '2021-04-23', '2018-02-08',\n",
       "       '2020-02-06', '2020-07-01', '2021-07-22', '2020-08-14',\n",
       "       '2020-07-24', '2019-06-04', '2020-11-03', '2021-03-09',\n",
       "       '2021-01-08', '2021-10-08', '2021-02-09', '2021-06-15',\n",
       "       '2020-02-27', '2021-07-02', '2021-04-26', '2021-11-23',\n",
       "       '2021-03-16', '2020-05-07', '2019-12-18', '2016-05-05',\n",
       "       '2020-07-07', '2021-07-09', '2020-03-20', '2021-02-10',\n",
       "       '2021-03-26', '2021-02-08', '2014-05-14', '2021-09-15',\n",
       "       '2016-04-12', '2020-09-11', '2021-06-08', '2016-05-11',\n",
       "       '2020-02-11', '2020-11-11', '2021-07-14', '2020-12-10',\n",
       "       '2017-03-27', '2021-08-12', '2017-03-17', '2016-11-10',\n",
       "       '2020-08-17', '2021-02-25', '2021-05-11', '2019-04-09',\n",
       "       '2020-07-14', '2021-04-13', '2021-03-11', '2017-09-13',\n",
       "       '2018-12-20', '2018-01-10', '2012-04-10', '2015-04-14',\n",
       "       '2019-01-08', '2017-11-15', '2019-09-23', '2017-04-12',\n",
       "       '2019-11-12', '2017-10-13', '2021-03-03', '2020-05-21',\n",
       "       '2021-07-16', '2020-01-14', '2016-06-16', '2020-04-24',\n",
       "       '2020-03-02', '2019-09-05', '2020-10-09', '2020-01-15',\n",
       "       '2012-10-16', '2020-11-02', '2019-12-11', '2020-09-30',\n",
       "       '2021-05-27', '2020-10-28', '2019-05-08', '2019-04-26',\n",
       "       '2021-05-07', '2020-03-08', '2021-08-16', '2017-11-09',\n",
       "       '2020-04-30', '2020-11-06', '2018-03-01', '2016-05-13',\n",
       "       '2016-11-23', '2016-04-07', '2019-09-12', '2020-12-29',\n",
       "       '2016-06-17', '2020-04-01', '2021-04-09', '2019-12-17',\n",
       "       '2021-04-20', '2021-02-04', '2020-04-27', '2020-03-11',\n",
       "       '2017-08-11', '2017-07-03', '2020-07-13', '2018-10-30',\n",
       "       '2018-12-11', '2019-02-24', '2019-10-28', '2020-03-18',\n",
       "       '2020-09-01', '2021-07-29', '2020-03-16', '2019-09-24',\n",
       "       '2020-08-12', '2019-12-06', '2020-10-20', '2020-03-17',\n",
       "       '2021-09-23', '2020-04-10', '2021-02-24', '2021-05-26',\n",
       "       '2020-11-23', '2020-09-09', '2020-04-13', '2019-03-24',\n",
       "       '2021-10-15', '2021-09-07', '2020-03-06', '2019-02-17',\n",
       "       '2020-12-22', '2021-10-13', '2021-11-10', '2018-08-02',\n",
       "       '2021-09-01', '2021-09-16', '2021-11-29', '2021-12-12',\n",
       "       '2019-07-17', '2019-03-21', '2019-08-01', '2022-01-04',\n",
       "       '2017-12-12', '2017-10-04', '2010-08-05', '2020-08-13',\n",
       "       '2020-05-29', '2019-12-24', '2021-12-10', '2021-12-15',\n",
       "       '2022-02-11', '2021-09-22', '2021-01-14', '2019-12-10',\n",
       "       '2013-12-11', '2019-05-29', '2019-07-19', '2019-06-05',\n",
       "       '2016-01-02', '2018-01-03', '2021-12-08', '2021-08-26',\n",
       "       '2021-02-15', '2021-09-13', '2020-07-17', '2020-11-10',\n",
       "       '2006-03-30', '2012-01-08', '2018-10-10', '2022-01-10',\n",
       "       '2022-03-18', '2020-03-23', '2020-03-12', '2017-05-02',\n",
       "       '2014-04-27', '2014-09-24', '2014-09-25', '2022-01-11',\n",
       "       '2018-12-10', '2017-07-10', '2017-06-15', '2017-10-19',\n",
       "       '2016-06-01', '2015-02-23', '2015-04-10', '2014-09-18',\n",
       "       '2022-02-16', '2022-04-05', '2018-05-09', '2019-02-05',\n",
       "       '2019-01-18', '2017-06-27', '2014-03-25', '2013-11-06',\n",
       "       '2022-02-09', '2017-07-11', '2014-10-22', '2022-02-10',\n",
       "       '2020-02-24', '2020-06-17', '2019-09-27', '2018-11-14',\n",
       "       '2018-07-11', '2017-05-26', '2017-07-17', '2017-08-07',\n",
       "       '2017-09-07', '2018-03-27', '2017-09-29', '2017-10-22',\n",
       "       '2016-11-18', '2016-11-01', '2016-12-20', '2016-10-14',\n",
       "       '2016-03-09', '2015-10-15', '2015-07-08', '2015-10-22',\n",
       "       '2015-07-16', '2015-09-09', '2015-07-14', '2015-04-21',\n",
       "       '2015-08-15', '2014-10-15', '2014-01-15', '2013-11-28',\n",
       "       '2013-10-09', '2013-08-30', '2013-05-16', '2013-05-05',\n",
       "       '2013-02-14', '2013-01-17', '2012-08-28', '2012-08-15',\n",
       "       '2012-06-16', '2012-06-07', '2011-10-19', '2011-06-16',\n",
       "       '2011-04-13', '2010-11-10', '2010-01-21', '2010-02-22',\n",
       "       '2009-11-11', '2009-06-10', '2008-08-05', '2008-11-04',\n",
       "       '2004-08-06', '2002-06-25', '2020-07-30', '2019-08-09',\n",
       "       '2017-02-22', '2016-12-14', '2013-01-09', '2010-02-15',\n",
       "       '2020-10-12', '2019-10-10', '2019-07-15', '2019-06-12',\n",
       "       '2016-08-09', '2022-03-04', '2022-03-10', '2021-11-05',\n",
       "       '2020-07-09', '2020-03-04', '2020-01-29', '2020-06-02',\n",
       "       '2020-09-25', '2021-02-03', '2020-06-29', '2020-05-22',\n",
       "       '2020-05-04', '2019-02-21', '2019-04-23', '2019-08-16',\n",
       "       '2019-07-16', '2019-03-26', '2019-03-08', '2018-08-15',\n",
       "       '2018-06-11', '2019-05-14', '2018-04-11', '2018-05-31',\n",
       "       '2018-03-08', '2017-03-06', '2017-09-19', '2016-12-15',\n",
       "       '2017-04-21', '2020-03-09', '2017-01-30', '2016-02-16',\n",
       "       '2015-05-29', '2015-04-22', '2015-02-17', '2017-09-21',\n",
       "       '2015-04-03', '2014-11-11', '2014-11-18', '2014-10-07',\n",
       "       '2014-07-28', '2014-05-07', '2013-11-19', '2013-09-16',\n",
       "       '2013-07-20', '2012-05-11', '2010-12-14', '2010-08-30',\n",
       "       '2010-08-11', '2009-08-19', '2009-03-26', '2009-03-19',\n",
       "       '2005-09-02', '2022-02-18', '2021-08-04', '2019-12-19',\n",
       "       '2018-09-13', '2017-02-26', '2016-02-10', '2015-07-20',\n",
       "       '2015-06-10', '2013-05-24', '2013-03-11', '2013-06-18',\n",
       "       '2013-06-26', '2012-12-12', '2012-06-09', '2011-10-12',\n",
       "       '2010-12-06', '2022-03-29', '2022-03-25', '2021-05-13',\n",
       "       '2021-05-04', '2018-05-04', '2022-04-01', '2022-05-26',\n",
       "       '2022-02-17', '2021-01-26', '2022-02-24', '2022-03-16',\n",
       "       '2022-01-26', '2021-04-17', '2017-08-23', '2022-04-15',\n",
       "       '2018-07-19', '2015-06-23', '2015-08-19', '2015-02-02',\n",
       "       '2015-01-23', '2014-12-10', '2022-04-11', '2022-04-13',\n",
       "       '2019-04-30', '2019-09-16', '2016-06-09', '2014-04-25',\n",
       "       '2019-06-11', '2007-09-18', '2022-04-18', '2014-02-14',\n",
       "       '2014-04-07', '2022-05-05', '2022-05-12', '2022-03-03',\n",
       "       '2019-06-27', '2019-11-25', '2019-07-23', '2020-01-21',\n",
       "       '2018-07-09', '2018-12-12', '2017-04-27', '2016-09-14',\n",
       "       '2016-08-25', '2016-08-18', '2019-10-16', '2016-03-12',\n",
       "       '2016-01-13', '2015-01-13', '2015-02-11', '2015-08-08',\n",
       "       '2015-12-28', '2015-12-09', '2015-05-13', '2014-11-25',\n",
       "       '2014-08-12', '2014-06-07', '2014-02-26', '2014-07-07',\n",
       "       '2013-04-17', '2013-01-31', '2013-01-10', '2013-03-13',\n",
       "       '2012-05-03', '2010-04-28', '2010-04-01', '2022-06-03',\n",
       "       '2022-06-02', '2019-12-05', '2019-11-26', '2017-10-27',\n",
       "       '2017-04-24', '2017-01-19', '2016-03-29', '2013-06-12',\n",
       "       '2012-09-24', '2012-09-18', '2012-06-13', '2012-02-16',\n",
       "       '2011-12-07', '2011-03-15', '2010-09-09', '2010-06-08',\n",
       "       '2009-12-15', '2010-01-13', '2009-07-23', '2008-02-07',\n",
       "       '2008-02-12', '2006-05-20', '2021-09-14', '2022-06-01',\n",
       "       '2022-04-26', '2021-06-07', '2022-01-28', '2020-10-16',\n",
       "       '2019-04-03', '2022-05-10'], dtype=object)"
      ]
     },
     "execution_count": 35,
     "metadata": {},
     "output_type": "execute_result"
    }
   ],
   "source": [
    "df1['pub_date'].unique()"
   ]
  },
  {
   "cell_type": "code",
   "execution_count": 36,
   "metadata": {},
   "outputs": [
    {
     "data": {
      "text/plain": [
       "0    2018-03-28\n",
       "dtype: object"
      ]
     },
     "execution_count": 36,
     "metadata": {},
     "output_type": "execute_result"
    }
   ],
   "source": [
    "df1['pub_date'].mode()"
   ]
  },
  {
   "cell_type": "code",
   "execution_count": 37,
   "metadata": {},
   "outputs": [],
   "source": [
    "df1['pub_date']=df1['pub_date'].fillna('2018-03-28')"
   ]
  },
  {
   "cell_type": "code",
   "execution_count": 38,
   "metadata": {},
   "outputs": [
    {
     "data": {
      "text/plain": [
       "cve_id                0\n",
       "vendor_project        0\n",
       "product               0\n",
       "vulnerability_name    0\n",
       "date_added            0\n",
       "required_action       0\n",
       "due_date              0\n",
       "grp                   0\n",
       "pub_date              0\n",
       "cvss                  0\n",
       "cwe                   0\n",
       "vector                0\n",
       "complexity            0\n",
       "severity              0\n",
       "dtype: int64"
      ]
     },
     "execution_count": 38,
     "metadata": {},
     "output_type": "execute_result"
    }
   ],
   "source": [
    "df1.isna().sum()"
   ]
  },
  {
   "cell_type": "code",
   "execution_count": 39,
   "metadata": {},
   "outputs": [
    {
     "data": {
      "text/html": [
       "<div>\n",
       "<style scoped>\n",
       "    .dataframe tbody tr th:only-of-type {\n",
       "        vertical-align: middle;\n",
       "    }\n",
       "\n",
       "    .dataframe tbody tr th {\n",
       "        vertical-align: top;\n",
       "    }\n",
       "\n",
       "    .dataframe thead th {\n",
       "        text-align: right;\n",
       "    }\n",
       "</style>\n",
       "<table border=\"1\" class=\"dataframe\">\n",
       "  <thead>\n",
       "    <tr style=\"text-align: right;\">\n",
       "      <th></th>\n",
       "      <th>cve_id</th>\n",
       "      <th>vendor_project</th>\n",
       "      <th>product</th>\n",
       "      <th>vulnerability_name</th>\n",
       "      <th>date_added</th>\n",
       "      <th>required_action</th>\n",
       "      <th>due_date</th>\n",
       "      <th>grp</th>\n",
       "      <th>pub_date</th>\n",
       "      <th>cvss</th>\n",
       "      <th>cwe</th>\n",
       "      <th>vector</th>\n",
       "      <th>complexity</th>\n",
       "      <th>severity</th>\n",
       "    </tr>\n",
       "  </thead>\n",
       "  <tbody>\n",
       "    <tr>\n",
       "      <th>0</th>\n",
       "      <td>CVE-2021-27104</td>\n",
       "      <td>accellion</td>\n",
       "      <td>FTA</td>\n",
       "      <td>Accellion FTA OS Command Injection Vulnerability</td>\n",
       "      <td>2021-11-03</td>\n",
       "      <td>Apply updates per vendor instructions.</td>\n",
       "      <td>2021-11-17</td>\n",
       "      <td>1</td>\n",
       "      <td>2021-02-16</td>\n",
       "      <td>9.8</td>\n",
       "      <td>CWE-78</td>\n",
       "      <td>NETWORK</td>\n",
       "      <td>LOW</td>\n",
       "      <td>CRITICAL</td>\n",
       "    </tr>\n",
       "    <tr>\n",
       "      <th>1</th>\n",
       "      <td>CVE-2021-27102</td>\n",
       "      <td>accellion</td>\n",
       "      <td>FTA</td>\n",
       "      <td>Accellion FTA OS Command Injection Vulnerability</td>\n",
       "      <td>2021-11-03</td>\n",
       "      <td>Apply updates per vendor instructions.</td>\n",
       "      <td>2021-11-17</td>\n",
       "      <td>1</td>\n",
       "      <td>2018-03-28</td>\n",
       "      <td>8.8</td>\n",
       "      <td>NVD-CWE-noinfo</td>\n",
       "      <td>NETWORK</td>\n",
       "      <td>LOW</td>\n",
       "      <td>HIGH</td>\n",
       "    </tr>\n",
       "    <tr>\n",
       "      <th>2</th>\n",
       "      <td>CVE-2021-27101</td>\n",
       "      <td>accellion</td>\n",
       "      <td>FTA</td>\n",
       "      <td>Accellion FTA SQL Injection Vulnerability</td>\n",
       "      <td>2021-11-03</td>\n",
       "      <td>Apply updates per vendor instructions.</td>\n",
       "      <td>2021-11-17</td>\n",
       "      <td>1</td>\n",
       "      <td>2018-03-28</td>\n",
       "      <td>8.8</td>\n",
       "      <td>NVD-CWE-noinfo</td>\n",
       "      <td>NETWORK</td>\n",
       "      <td>LOW</td>\n",
       "      <td>HIGH</td>\n",
       "    </tr>\n",
       "    <tr>\n",
       "      <th>3</th>\n",
       "      <td>CVE-2021-27103</td>\n",
       "      <td>accellion</td>\n",
       "      <td>FTA</td>\n",
       "      <td>Accellion FTA SSRF Vulnerability</td>\n",
       "      <td>2021-11-03</td>\n",
       "      <td>Apply updates per vendor instructions.</td>\n",
       "      <td>2021-11-17</td>\n",
       "      <td>1</td>\n",
       "      <td>2018-03-28</td>\n",
       "      <td>8.8</td>\n",
       "      <td>NVD-CWE-noinfo</td>\n",
       "      <td>NETWORK</td>\n",
       "      <td>LOW</td>\n",
       "      <td>HIGH</td>\n",
       "    </tr>\n",
       "    <tr>\n",
       "      <th>4</th>\n",
       "      <td>CVE-2021-21017</td>\n",
       "      <td>adobe</td>\n",
       "      <td>Acrobat and Reader</td>\n",
       "      <td>Adobe Acrobat and Reader Heap-based Buffer Ove...</td>\n",
       "      <td>2021-11-03</td>\n",
       "      <td>Apply updates per vendor instructions.</td>\n",
       "      <td>2021-11-17</td>\n",
       "      <td>1</td>\n",
       "      <td>2018-03-28</td>\n",
       "      <td>8.8</td>\n",
       "      <td>NVD-CWE-noinfo</td>\n",
       "      <td>NETWORK</td>\n",
       "      <td>LOW</td>\n",
       "      <td>HIGH</td>\n",
       "    </tr>\n",
       "  </tbody>\n",
       "</table>\n",
       "</div>"
      ],
      "text/plain": [
       "           cve_id vendor_project             product  \\\n",
       "0  CVE-2021-27104      accellion                 FTA   \n",
       "1  CVE-2021-27102      accellion                 FTA   \n",
       "2  CVE-2021-27101      accellion                 FTA   \n",
       "3  CVE-2021-27103      accellion                 FTA   \n",
       "4  CVE-2021-21017          adobe  Acrobat and Reader   \n",
       "\n",
       "                                  vulnerability_name  date_added  \\\n",
       "0   Accellion FTA OS Command Injection Vulnerability  2021-11-03   \n",
       "1   Accellion FTA OS Command Injection Vulnerability  2021-11-03   \n",
       "2          Accellion FTA SQL Injection Vulnerability  2021-11-03   \n",
       "3                   Accellion FTA SSRF Vulnerability  2021-11-03   \n",
       "4  Adobe Acrobat and Reader Heap-based Buffer Ove...  2021-11-03   \n",
       "\n",
       "                          required_action    due_date  grp    pub_date  cvss  \\\n",
       "0  Apply updates per vendor instructions.  2021-11-17    1  2021-02-16   9.8   \n",
       "1  Apply updates per vendor instructions.  2021-11-17    1  2018-03-28   8.8   \n",
       "2  Apply updates per vendor instructions.  2021-11-17    1  2018-03-28   8.8   \n",
       "3  Apply updates per vendor instructions.  2021-11-17    1  2018-03-28   8.8   \n",
       "4  Apply updates per vendor instructions.  2021-11-17    1  2018-03-28   8.8   \n",
       "\n",
       "              cwe   vector complexity  severity  \n",
       "0          CWE-78  NETWORK        LOW  CRITICAL  \n",
       "1  NVD-CWE-noinfo  NETWORK        LOW      HIGH  \n",
       "2  NVD-CWE-noinfo  NETWORK        LOW      HIGH  \n",
       "3  NVD-CWE-noinfo  NETWORK        LOW      HIGH  \n",
       "4  NVD-CWE-noinfo  NETWORK        LOW      HIGH  "
      ]
     },
     "execution_count": 39,
     "metadata": {},
     "output_type": "execute_result"
    }
   ],
   "source": [
    "df1.head()"
   ]
  },
  {
   "cell_type": "code",
   "execution_count": 40,
   "metadata": {},
   "outputs": [
    {
     "name": "stdout",
     "output_type": "stream",
     "text": [
      "<class 'pandas.core.frame.DataFrame'>\n",
      "Int64Index: 3984 entries, 0 to 773\n",
      "Data columns (total 14 columns):\n",
      " #   Column              Non-Null Count  Dtype  \n",
      "---  ------              --------------  -----  \n",
      " 0   cve_id              3984 non-null   object \n",
      " 1   vendor_project      3984 non-null   object \n",
      " 2   product             3984 non-null   object \n",
      " 3   vulnerability_name  3984 non-null   object \n",
      " 4   date_added          3984 non-null   object \n",
      " 5   required_action     3984 non-null   object \n",
      " 6   due_date            3984 non-null   object \n",
      " 7   grp                 3984 non-null   int64  \n",
      " 8   pub_date            3984 non-null   object \n",
      " 9   cvss                3984 non-null   float64\n",
      " 10  cwe                 3984 non-null   object \n",
      " 11  vector              3984 non-null   object \n",
      " 12  complexity          3984 non-null   object \n",
      " 13  severity            3984 non-null   object \n",
      "dtypes: float64(1), int64(1), object(12)\n",
      "memory usage: 466.9+ KB\n"
     ]
    }
   ],
   "source": [
    "df1.info()"
   ]
  },
  {
   "cell_type": "code",
   "execution_count": 41,
   "metadata": {},
   "outputs": [
    {
     "data": {
      "text/plain": [
       "<matplotlib.axes._subplots.AxesSubplot at 0x1207cfc10>"
      ]
     },
     "execution_count": 41,
     "metadata": {},
     "output_type": "execute_result"
    },
    {
     "data": {
      "image/png": "[encoded data removed]",
      "text/plain": [
       "<Figure size 864x576 with 1 Axes>"
      ]
     },
     "metadata": {
      "needs_background": "light"
     },
     "output_type": "display_data"
    }
   ],
   "source": [
    "p = df1['product'].value_counts()\n",
    "p10 = p[:10]\n",
    "plt.figure(figsize=(12,8))\n",
    "plt.xticks(rotation=75)\n",
    "plt.title('Top 10 bowlers')\n",
    "sns.barplot(p10.index, p10)"
   ]
  },
  {
   "cell_type": "code",
   "execution_count": 42,
   "metadata": {},
   "outputs": [
    {
     "data": {
      "text/plain": [
       "<matplotlib.axes._subplots.AxesSubplot at 0x120953460>"
      ]
     },
     "execution_count": 42,
     "metadata": {},
     "output_type": "execute_result"
    },
    {
     "data": {
      "image/png": "[encoded data removed]",
      "text/plain": [
       "<Figure size 864x576 with 1 Axes>"
      ]
     },
     "metadata": {
      "needs_background": "light"
     },
     "output_type": "display_data"
    }
   ],
   "source": [
    "v = df1['vendor_project'].value_counts()\n",
    "v10=v[:10]\n",
    "plt.figure(figsize=(12,8))\n",
    "plt.xticks(rotation=75)\n",
    "plt.title(\"top 10 vendor projects\")\n",
    "sns.barplot(v10.index,v10)"
   ]
  },
  {
   "cell_type": "code",
   "execution_count": 43,
   "metadata": {},
   "outputs": [],
   "source": [
    "df1['due_date'] = pd.to_datetime(df1['due_date'])\n",
    "df1['pub_date'] = pd.to_datetime(df1['pub_date'])"
   ]
  },
  {
   "cell_type": "code",
   "execution_count": 44,
   "metadata": {},
   "outputs": [
    {
     "data": {
      "text/html": [
       "<div>\n",
       "<style scoped>\n",
       "    .dataframe tbody tr th:only-of-type {\n",
       "        vertical-align: middle;\n",
       "    }\n",
       "\n",
       "    .dataframe tbody tr th {\n",
       "        vertical-align: top;\n",
       "    }\n",
       "\n",
       "    .dataframe thead th {\n",
       "        text-align: right;\n",
       "    }\n",
       "</style>\n",
       "<table border=\"1\" class=\"dataframe\">\n",
       "  <thead>\n",
       "    <tr style=\"text-align: right;\">\n",
       "      <th></th>\n",
       "      <th>cve_id</th>\n",
       "      <th>vendor_project</th>\n",
       "      <th>product</th>\n",
       "      <th>vulnerability_name</th>\n",
       "      <th>date_added</th>\n",
       "      <th>required_action</th>\n",
       "      <th>due_date</th>\n",
       "      <th>grp</th>\n",
       "      <th>pub_date</th>\n",
       "      <th>cvss</th>\n",
       "      <th>cwe</th>\n",
       "      <th>vector</th>\n",
       "      <th>complexity</th>\n",
       "      <th>severity</th>\n",
       "      <th>dd_year</th>\n",
       "      <th>dd_month</th>\n",
       "      <th>dd_day</th>\n",
       "    </tr>\n",
       "  </thead>\n",
       "  <tbody>\n",
       "    <tr>\n",
       "      <th>0</th>\n",
       "      <td>CVE-2021-27104</td>\n",
       "      <td>accellion</td>\n",
       "      <td>FTA</td>\n",
       "      <td>Accellion FTA OS Command Injection Vulnerability</td>\n",
       "      <td>2021-11-03</td>\n",
       "      <td>Apply updates per vendor instructions.</td>\n",
       "      <td>2021-11-17</td>\n",
       "      <td>1</td>\n",
       "      <td>2021-02-16</td>\n",
       "      <td>9.8</td>\n",
       "      <td>CWE-78</td>\n",
       "      <td>NETWORK</td>\n",
       "      <td>LOW</td>\n",
       "      <td>CRITICAL</td>\n",
       "      <td>2021</td>\n",
       "      <td>11</td>\n",
       "      <td>17</td>\n",
       "    </tr>\n",
       "    <tr>\n",
       "      <th>1</th>\n",
       "      <td>CVE-2021-27102</td>\n",
       "      <td>accellion</td>\n",
       "      <td>FTA</td>\n",
       "      <td>Accellion FTA OS Command Injection Vulnerability</td>\n",
       "      <td>2021-11-03</td>\n",
       "      <td>Apply updates per vendor instructions.</td>\n",
       "      <td>2021-11-17</td>\n",
       "      <td>1</td>\n",
       "      <td>2018-03-28</td>\n",
       "      <td>8.8</td>\n",
       "      <td>NVD-CWE-noinfo</td>\n",
       "      <td>NETWORK</td>\n",
       "      <td>LOW</td>\n",
       "      <td>HIGH</td>\n",
       "      <td>2021</td>\n",
       "      <td>11</td>\n",
       "      <td>17</td>\n",
       "    </tr>\n",
       "    <tr>\n",
       "      <th>2</th>\n",
       "      <td>CVE-2021-27101</td>\n",
       "      <td>accellion</td>\n",
       "      <td>FTA</td>\n",
       "      <td>Accellion FTA SQL Injection Vulnerability</td>\n",
       "      <td>2021-11-03</td>\n",
       "      <td>Apply updates per vendor instructions.</td>\n",
       "      <td>2021-11-17</td>\n",
       "      <td>1</td>\n",
       "      <td>2018-03-28</td>\n",
       "      <td>8.8</td>\n",
       "      <td>NVD-CWE-noinfo</td>\n",
       "      <td>NETWORK</td>\n",
       "      <td>LOW</td>\n",
       "      <td>HIGH</td>\n",
       "      <td>2021</td>\n",
       "      <td>11</td>\n",
       "      <td>17</td>\n",
       "    </tr>\n",
       "    <tr>\n",
       "      <th>3</th>\n",
       "      <td>CVE-2021-27103</td>\n",
       "      <td>accellion</td>\n",
       "      <td>FTA</td>\n",
       "      <td>Accellion FTA SSRF Vulnerability</td>\n",
       "      <td>2021-11-03</td>\n",
       "      <td>Apply updates per vendor instructions.</td>\n",
       "      <td>2021-11-17</td>\n",
       "      <td>1</td>\n",
       "      <td>2018-03-28</td>\n",
       "      <td>8.8</td>\n",
       "      <td>NVD-CWE-noinfo</td>\n",
       "      <td>NETWORK</td>\n",
       "      <td>LOW</td>\n",
       "      <td>HIGH</td>\n",
       "      <td>2021</td>\n",
       "      <td>11</td>\n",
       "      <td>17</td>\n",
       "    </tr>\n",
       "    <tr>\n",
       "      <th>4</th>\n",
       "      <td>CVE-2021-21017</td>\n",
       "      <td>adobe</td>\n",
       "      <td>Acrobat and Reader</td>\n",
       "      <td>Adobe Acrobat and Reader Heap-based Buffer Ove...</td>\n",
       "      <td>2021-11-03</td>\n",
       "      <td>Apply updates per vendor instructions.</td>\n",
       "      <td>2021-11-17</td>\n",
       "      <td>1</td>\n",
       "      <td>2018-03-28</td>\n",
       "      <td>8.8</td>\n",
       "      <td>NVD-CWE-noinfo</td>\n",
       "      <td>NETWORK</td>\n",
       "      <td>LOW</td>\n",
       "      <td>HIGH</td>\n",
       "      <td>2021</td>\n",
       "      <td>11</td>\n",
       "      <td>17</td>\n",
       "    </tr>\n",
       "  </tbody>\n",
       "</table>\n",
       "</div>"
      ],
      "text/plain": [
       "           cve_id vendor_project             product  \\\n",
       "0  CVE-2021-27104      accellion                 FTA   \n",
       "1  CVE-2021-27102      accellion                 FTA   \n",
       "2  CVE-2021-27101      accellion                 FTA   \n",
       "3  CVE-2021-27103      accellion                 FTA   \n",
       "4  CVE-2021-21017          adobe  Acrobat and Reader   \n",
       "\n",
       "                                  vulnerability_name  date_added  \\\n",
       "0   Accellion FTA OS Command Injection Vulnerability  2021-11-03   \n",
       "1   Accellion FTA OS Command Injection Vulnerability  2021-11-03   \n",
       "2          Accellion FTA SQL Injection Vulnerability  2021-11-03   \n",
       "3                   Accellion FTA SSRF Vulnerability  2021-11-03   \n",
       "4  Adobe Acrobat and Reader Heap-based Buffer Ove...  2021-11-03   \n",
       "\n",
       "                          required_action   due_date  grp   pub_date  cvss  \\\n",
       "0  Apply updates per vendor instructions. 2021-11-17    1 2021-02-16   9.8   \n",
       "1  Apply updates per vendor instructions. 2021-11-17    1 2018-03-28   8.8   \n",
       "2  Apply updates per vendor instructions. 2021-11-17    1 2018-03-28   8.8   \n",
       "3  Apply updates per vendor instructions. 2021-11-17    1 2018-03-28   8.8   \n",
       "4  Apply updates per vendor instructions. 2021-11-17    1 2018-03-28   8.8   \n",
       "\n",
       "              cwe   vector complexity  severity  dd_year  dd_month  dd_day  \n",
       "0          CWE-78  NETWORK        LOW  CRITICAL     2021        11      17  \n",
       "1  NVD-CWE-noinfo  NETWORK        LOW      HIGH     2021        11      17  \n",
       "2  NVD-CWE-noinfo  NETWORK        LOW      HIGH     2021        11      17  \n",
       "3  NVD-CWE-noinfo  NETWORK        LOW      HIGH     2021        11      17  \n",
       "4  NVD-CWE-noinfo  NETWORK        LOW      HIGH     2021        11      17  "
      ]
     },
     "execution_count": 44,
     "metadata": {},
     "output_type": "execute_result"
    }
   ],
   "source": [
    "df1['dd_year'] = df1['due_date'].dt.year\n",
    "df1['dd_month'] = df1['due_date'].dt.month\n",
    "df1['dd_day'] = df1['due_date'].dt.day\n",
    "df1.head()"
   ]
  },
  {
   "cell_type": "code",
   "execution_count": 45,
   "metadata": {},
   "outputs": [
    {
     "data": {
      "text/html": [
       "<div>\n",
       "<style scoped>\n",
       "    .dataframe tbody tr th:only-of-type {\n",
       "        vertical-align: middle;\n",
       "    }\n",
       "\n",
       "    .dataframe tbody tr th {\n",
       "        vertical-align: top;\n",
       "    }\n",
       "\n",
       "    .dataframe thead th {\n",
       "        text-align: right;\n",
       "    }\n",
       "</style>\n",
       "<table border=\"1\" class=\"dataframe\">\n",
       "  <thead>\n",
       "    <tr style=\"text-align: right;\">\n",
       "      <th></th>\n",
       "      <th>cve_id</th>\n",
       "      <th>vendor_project</th>\n",
       "      <th>product</th>\n",
       "      <th>vulnerability_name</th>\n",
       "      <th>date_added</th>\n",
       "      <th>required_action</th>\n",
       "      <th>due_date</th>\n",
       "      <th>grp</th>\n",
       "      <th>pub_date</th>\n",
       "      <th>cvss</th>\n",
       "      <th>cwe</th>\n",
       "      <th>vector</th>\n",
       "      <th>complexity</th>\n",
       "      <th>severity</th>\n",
       "      <th>dd_year</th>\n",
       "      <th>dd_month</th>\n",
       "      <th>dd_day</th>\n",
       "      <th>pd_year</th>\n",
       "      <th>pd_month</th>\n",
       "      <th>pd_day</th>\n",
       "    </tr>\n",
       "  </thead>\n",
       "  <tbody>\n",
       "    <tr>\n",
       "      <th>0</th>\n",
       "      <td>CVE-2021-27104</td>\n",
       "      <td>accellion</td>\n",
       "      <td>FTA</td>\n",
       "      <td>Accellion FTA OS Command Injection Vulnerability</td>\n",
       "      <td>2021-11-03</td>\n",
       "      <td>Apply updates per vendor instructions.</td>\n",
       "      <td>2021-11-17</td>\n",
       "      <td>1</td>\n",
       "      <td>2021-02-16</td>\n",
       "      <td>9.8</td>\n",
       "      <td>CWE-78</td>\n",
       "      <td>NETWORK</td>\n",
       "      <td>LOW</td>\n",
       "      <td>CRITICAL</td>\n",
       "      <td>2021</td>\n",
       "      <td>11</td>\n",
       "      <td>17</td>\n",
       "      <td>2021</td>\n",
       "      <td>2</td>\n",
       "      <td>16</td>\n",
       "    </tr>\n",
       "    <tr>\n",
       "      <th>1</th>\n",
       "      <td>CVE-2021-27102</td>\n",
       "      <td>accellion</td>\n",
       "      <td>FTA</td>\n",
       "      <td>Accellion FTA OS Command Injection Vulnerability</td>\n",
       "      <td>2021-11-03</td>\n",
       "      <td>Apply updates per vendor instructions.</td>\n",
       "      <td>2021-11-17</td>\n",
       "      <td>1</td>\n",
       "      <td>2018-03-28</td>\n",
       "      <td>8.8</td>\n",
       "      <td>NVD-CWE-noinfo</td>\n",
       "      <td>NETWORK</td>\n",
       "      <td>LOW</td>\n",
       "      <td>HIGH</td>\n",
       "      <td>2021</td>\n",
       "      <td>11</td>\n",
       "      <td>17</td>\n",
       "      <td>2018</td>\n",
       "      <td>3</td>\n",
       "      <td>28</td>\n",
       "    </tr>\n",
       "    <tr>\n",
       "      <th>2</th>\n",
       "      <td>CVE-2021-27101</td>\n",
       "      <td>accellion</td>\n",
       "      <td>FTA</td>\n",
       "      <td>Accellion FTA SQL Injection Vulnerability</td>\n",
       "      <td>2021-11-03</td>\n",
       "      <td>Apply updates per vendor instructions.</td>\n",
       "      <td>2021-11-17</td>\n",
       "      <td>1</td>\n",
       "      <td>2018-03-28</td>\n",
       "      <td>8.8</td>\n",
       "      <td>NVD-CWE-noinfo</td>\n",
       "      <td>NETWORK</td>\n",
       "      <td>LOW</td>\n",
       "      <td>HIGH</td>\n",
       "      <td>2021</td>\n",
       "      <td>11</td>\n",
       "      <td>17</td>\n",
       "      <td>2018</td>\n",
       "      <td>3</td>\n",
       "      <td>28</td>\n",
       "    </tr>\n",
       "    <tr>\n",
       "      <th>3</th>\n",
       "      <td>CVE-2021-27103</td>\n",
       "      <td>accellion</td>\n",
       "      <td>FTA</td>\n",
       "      <td>Accellion FTA SSRF Vulnerability</td>\n",
       "      <td>2021-11-03</td>\n",
       "      <td>Apply updates per vendor instructions.</td>\n",
       "      <td>2021-11-17</td>\n",
       "      <td>1</td>\n",
       "      <td>2018-03-28</td>\n",
       "      <td>8.8</td>\n",
       "      <td>NVD-CWE-noinfo</td>\n",
       "      <td>NETWORK</td>\n",
       "      <td>LOW</td>\n",
       "      <td>HIGH</td>\n",
       "      <td>2021</td>\n",
       "      <td>11</td>\n",
       "      <td>17</td>\n",
       "      <td>2018</td>\n",
       "      <td>3</td>\n",
       "      <td>28</td>\n",
       "    </tr>\n",
       "    <tr>\n",
       "      <th>4</th>\n",
       "      <td>CVE-2021-21017</td>\n",
       "      <td>adobe</td>\n",
       "      <td>Acrobat and Reader</td>\n",
       "      <td>Adobe Acrobat and Reader Heap-based Buffer Ove...</td>\n",
       "      <td>2021-11-03</td>\n",
       "      <td>Apply updates per vendor instructions.</td>\n",
       "      <td>2021-11-17</td>\n",
       "      <td>1</td>\n",
       "      <td>2018-03-28</td>\n",
       "      <td>8.8</td>\n",
       "      <td>NVD-CWE-noinfo</td>\n",
       "      <td>NETWORK</td>\n",
       "      <td>LOW</td>\n",
       "      <td>HIGH</td>\n",
       "      <td>2021</td>\n",
       "      <td>11</td>\n",
       "      <td>17</td>\n",
       "      <td>2018</td>\n",
       "      <td>3</td>\n",
       "      <td>28</td>\n",
       "    </tr>\n",
       "  </tbody>\n",
       "</table>\n",
       "</div>"
      ],
      "text/plain": [
       "           cve_id vendor_project             product  \\\n",
       "0  CVE-2021-27104      accellion                 FTA   \n",
       "1  CVE-2021-27102      accellion                 FTA   \n",
       "2  CVE-2021-27101      accellion                 FTA   \n",
       "3  CVE-2021-27103      accellion                 FTA   \n",
       "4  CVE-2021-21017          adobe  Acrobat and Reader   \n",
       "\n",
       "                                  vulnerability_name  date_added  \\\n",
       "0   Accellion FTA OS Command Injection Vulnerability  2021-11-03   \n",
       "1   Accellion FTA OS Command Injection Vulnerability  2021-11-03   \n",
       "2          Accellion FTA SQL Injection Vulnerability  2021-11-03   \n",
       "3                   Accellion FTA SSRF Vulnerability  2021-11-03   \n",
       "4  Adobe Acrobat and Reader Heap-based Buffer Ove...  2021-11-03   \n",
       "\n",
       "                          required_action   due_date  grp   pub_date  cvss  \\\n",
       "0  Apply updates per vendor instructions. 2021-11-17    1 2021-02-16   9.8   \n",
       "1  Apply updates per vendor instructions. 2021-11-17    1 2018-03-28   8.8   \n",
       "2  Apply updates per vendor instructions. 2021-11-17    1 2018-03-28   8.8   \n",
       "3  Apply updates per vendor instructions. 2021-11-17    1 2018-03-28   8.8   \n",
       "4  Apply updates per vendor instructions. 2021-11-17    1 2018-03-28   8.8   \n",
       "\n",
       "              cwe   vector complexity  severity  dd_year  dd_month  dd_day  \\\n",
       "0          CWE-78  NETWORK        LOW  CRITICAL     2021        11      17   \n",
       "1  NVD-CWE-noinfo  NETWORK        LOW      HIGH     2021        11      17   \n",
       "2  NVD-CWE-noinfo  NETWORK        LOW      HIGH     2021        11      17   \n",
       "3  NVD-CWE-noinfo  NETWORK        LOW      HIGH     2021        11      17   \n",
       "4  NVD-CWE-noinfo  NETWORK        LOW      HIGH     2021        11      17   \n",
       "\n",
       "   pd_year  pd_month  pd_day  \n",
       "0     2021         2      16  \n",
       "1     2018         3      28  \n",
       "2     2018         3      28  \n",
       "3     2018         3      28  \n",
       "4     2018         3      28  "
      ]
     },
     "execution_count": 45,
     "metadata": {},
     "output_type": "execute_result"
    }
   ],
   "source": [
    "df1['pd_year'] = df1['pub_date'].dt.year\n",
    "df1['pd_month'] = df1['pub_date'].dt.month\n",
    "df1['pd_day'] = df1['pub_date'].dt.day\n",
    "df1.head()"
   ]
  },
  {
   "cell_type": "code",
   "execution_count": 46,
   "metadata": {},
   "outputs": [
    {
     "data": {
      "text/plain": [
       "<matplotlib.axes._subplots.AxesSubplot at 0x120d7bb20>"
      ]
     },
     "execution_count": 46,
     "metadata": {},
     "output_type": "execute_result"
    },
    {
     "data": {
      "image/png": "[encoded data removed]",
      "text/plain": [
       "<Figure size 864x576 with 1 Axes>"
      ]
     },
     "metadata": {
      "needs_background": "light"
     },
     "output_type": "display_data"
    }
   ],
   "source": [
    "d_years = df1['dd_year'].sort_values().value_counts()\n",
    "d_years.plot(kind=\"bar\",color='r',title=\"Number of due date years\", figsize=(12,8))"
   ]
  },
  {
   "cell_type": "code",
   "execution_count": 47,
   "metadata": {},
   "outputs": [
    {
     "data": {
      "text/plain": [
       "<matplotlib.axes._subplots.AxesSubplot at 0x120e47df0>"
      ]
     },
     "execution_count": 47,
     "metadata": {},
     "output_type": "execute_result"
    },
    {
     "data": {
      "image/png": "[encoded data removed]",
      "text/plain": [
       "<Figure size 864x576 with 1 Axes>"
      ]
     },
     "metadata": {
      "needs_background": "light"
     },
     "output_type": "display_data"
    }
   ],
   "source": [
    "d_mon = df1['dd_month'].sort_values().value_counts()\n",
    "d_mon.plot(kind=\"bar\",color='g',title=\"Number of due date months\", figsize=(12,8))"
   ]
  },
  {
   "cell_type": "code",
   "execution_count": 48,
   "metadata": {},
   "outputs": [
    {
     "data": {
      "text/plain": [
       "<matplotlib.axes._subplots.AxesSubplot at 0x121033370>"
      ]
     },
     "execution_count": 48,
     "metadata": {},
     "output_type": "execute_result"
    },
    {
     "data": {
      "image/png": "[encoded data removed]",
      "text/plain": [
       "<Figure size 864x576 with 1 Axes>"
      ]
     },
     "metadata": {
      "needs_background": "light"
     },
     "output_type": "display_data"
    }
   ],
   "source": [
    "d_day = df1['dd_day'].sort_values().value_counts()\n",
    "d_day.plot(kind=\"bar\",color='b',title=\"Number of due date days\", figsize=(12,8))"
   ]
  },
  {
   "cell_type": "code",
   "execution_count": 49,
   "metadata": {},
   "outputs": [
    {
     "data": {
      "text/plain": [
       "<matplotlib.axes._subplots.AxesSubplot at 0x121070490>"
      ]
     },
     "execution_count": 49,
     "metadata": {},
     "output_type": "execute_result"
    },
    {
     "data": {
      "image/png": "[encoded data removed]",
      "text/plain": [
       "<Figure size 864x576 with 1 Axes>"
      ]
     },
     "metadata": {
      "needs_background": "light"
     },
     "output_type": "display_data"
    }
   ],
   "source": [
    "p_year = df1['pd_year'].sort_values().value_counts()\n",
    "p_year.plot(kind=\"bar\",color='orange',title=\"Number of publish date years\", figsize=(12,8))"
   ]
  },
  {
   "cell_type": "code",
   "execution_count": 50,
   "metadata": {},
   "outputs": [
    {
     "data": {
      "text/plain": [
       "<matplotlib.axes._subplots.AxesSubplot at 0x12144b460>"
      ]
     },
     "execution_count": 50,
     "metadata": {},
     "output_type": "execute_result"
    },
    {
     "data": {
      "image/png": "[encoded data removed]",
      "text/plain": [
       "<Figure size 864x576 with 1 Axes>"
      ]
     },
     "metadata": {
      "needs_background": "light"
     },
     "output_type": "display_data"
    }
   ],
   "source": [
    "p_day = df1['pd_month'].sort_values().value_counts()\n",
    "p_day.plot(kind=\"bar\",color='brown',title=\"Number of publish date months\", figsize=(12,8))"
   ]
  },
  {
   "cell_type": "code",
   "execution_count": 51,
   "metadata": {},
   "outputs": [
    {
     "data": {
      "text/plain": [
       "<matplotlib.axes._subplots.AxesSubplot at 0x121659040>"
      ]
     },
     "execution_count": 51,
     "metadata": {},
     "output_type": "execute_result"
    },
    {
     "data": {
      "image/png": "[encoded data removed]",
      "text/plain": [
       "<Figure size 864x576 with 1 Axes>"
      ]
     },
     "metadata": {
      "needs_background": "light"
     },
     "output_type": "display_data"
    }
   ],
   "source": [
    "p_day = df1['pd_day'].sort_values().value_counts()\n",
    "p_day.plot(kind=\"bar\",color='pink',title=\"Number of publish date days\", figsize=(12,8))"
   ]
  },
  {
   "cell_type": "code",
   "execution_count": 52,
   "metadata": {},
   "outputs": [
    {
     "data": {
      "image/png": "[encoded data removed]",
      "text/plain": [
       "<Figure size 720x432 with 1 Axes>"
      ]
     },
     "metadata": {
      "needs_background": "light"
     },
     "output_type": "display_data"
    }
   ],
   "source": [
    "plt.subplots(figsize=(10,6))\n",
    "sns.countplot(x='pd_year',hue='severity',data=df1)\n",
    "plt.show()"
   ]
  },
  {
   "cell_type": "code",
   "execution_count": 53,
   "metadata": {},
   "outputs": [
    {
     "data": {
      "image/png": "[encoded data removed]",
      "text/plain": [
       "<Figure size 720x432 with 1 Axes>"
      ]
     },
     "metadata": {
      "needs_background": "light"
     },
     "output_type": "display_data"
    }
   ],
   "source": [
    "plt.subplots(figsize=(10,6))\n",
    "sns.countplot(x='dd_year',hue='severity',data=df1)\n",
    "plt.show()"
   ]
  },
  {
   "cell_type": "code",
   "execution_count": 54,
   "metadata": {},
   "outputs": [
    {
     "data": {
      "image/png": "[encoded data removed]",
      "text/plain": [
       "<Figure size 720x432 with 1 Axes>"
      ]
     },
     "metadata": {
      "needs_background": "light"
     },
     "output_type": "display_data"
    }
   ],
   "source": [
    "plt.subplots(figsize=(10,6))\n",
    "sns.countplot(x='pd_year',hue='complexity',data=df1)\n",
    "plt.show()"
   ]
  },
  {
   "cell_type": "code",
   "execution_count": 55,
   "metadata": {},
   "outputs": [
    {
     "data": {
      "image/png": "[encoded data removed]",
      "text/plain": [
       "<Figure size 720x432 with 1 Axes>"
      ]
     },
     "metadata": {
      "needs_background": "light"
     },
     "output_type": "display_data"
    }
   ],
   "source": [
    "plt.subplots(figsize=(10,6))\n",
    "sns.countplot(x='dd_year',hue='complexity',data=df1)\n",
    "plt.show()"
   ]
  },
  {
   "cell_type": "code",
   "execution_count": 56,
   "metadata": {},
   "outputs": [
    {
     "data": {
      "image/png": "[encoded data removed]",
      "text/plain": [
       "<Figure size 720x432 with 1 Axes>"
      ]
     },
     "metadata": {
      "needs_background": "light"
     },
     "output_type": "display_data"
    }
   ],
   "source": [
    "plt.subplots(figsize=(10,6))\n",
    "sns.countplot(x='pd_year',hue='vector',data=df1)\n",
    "plt.show()"
   ]
  },
  {
   "cell_type": "code",
   "execution_count": 57,
   "metadata": {},
   "outputs": [
    {
     "data": {
      "image/png": "[encoded data removed]",
      "text/plain": [
       "<Figure size 720x432 with 1 Axes>"
      ]
     },
     "metadata": {
      "needs_background": "light"
     },
     "output_type": "display_data"
    }
   ],
   "source": [
    "plt.subplots(figsize=(10,6))\n",
    "sns.countplot(x='dd_year',hue='vector',data=df1)\n",
    "plt.show()"
   ]
  },
  {
   "cell_type": "code",
   "execution_count": 58,
   "metadata": {},
   "outputs": [
    {
     "data": {
      "image/png": "[encoded data removed]",
      "text/plain": [
       "<Figure size 360x360 with 1 Axes>"
      ]
     },
     "metadata": {},
     "output_type": "display_data"
    }
   ],
   "source": [
    "x=df1['complexity'].value_counts()\n",
    "plt.figure(figsize=(5,5))\n",
    "label = ['LOW','HIGH']\n",
    "c=['b','c']\n",
    "plt.pie(x, labels=label,colors=c,startangle=90,shadow=True,explode = (0,0.1),radius = 1.2,autopct='%.1f%%')\n",
    "plt.legend()\n",
    "plt.show()"
   ]
  },
  {
   "cell_type": "code",
   "execution_count": 59,
   "metadata": {},
   "outputs": [
    {
     "data": {
      "text/plain": [
       "<matplotlib.axes._subplots.AxesSubplot at 0x1222b40a0>"
      ]
     },
     "execution_count": 59,
     "metadata": {},
     "output_type": "execute_result"
    },
    {
     "data": {
      "image/png": "[encoded data removed]",
      "text/plain": [
       "<Figure size 432x288 with 1 Axes>"
      ]
     },
     "metadata": {
      "needs_background": "light"
     },
     "output_type": "display_data"
    }
   ],
   "source": [
    "sns.countplot(x='severity', data=df1)"
   ]
  },
  {
   "cell_type": "code",
   "execution_count": 60,
   "metadata": {},
   "outputs": [
    {
     "data": {
      "image/png": "[encoded data removed]",
      "text/plain": [
       "<Figure size 360x360 with 1 Axes>"
      ]
     },
     "metadata": {},
     "output_type": "display_data"
    }
   ],
   "source": [
    "x=df1['vector'].value_counts()\n",
    "plt.figure(figsize=(5,5))\n",
    "label = ['NETWORK','LOCAL','ADJACENT_NETWORK']\n",
    "c=['r','g','y']\n",
    "plt.pie(x, labels=label,colors=c,startangle=90,shadow=True,radius = 1.2,autopct='%.1f%%')\n",
    "plt.legend()\n",
    "plt.show()"
   ]
  },
  {
   "cell_type": "code",
   "execution_count": 61,
   "metadata": {},
   "outputs": [
    {
     "data": {
      "image/png": "[encoded data removed]",
      "text/plain": [
       "<Figure size 432x288 with 1 Axes>"
      ]
     },
     "metadata": {
      "needs_background": "light"
     },
     "output_type": "display_data"
    }
   ],
   "source": [
    "plt.hist(df1['grp'],color='red',rwidth=0.8)\n",
    "plt.xlabel(\"Group associated with vulnerability\")\n",
    "plt.ylabel(\"Frequency\")\n",
    "plt.title(\"Histogram Plot\")\n",
    "plt.show()"
   ]
  },
  {
   "cell_type": "code",
   "execution_count": null,
   "metadata": {},
   "outputs": [],
   "source": []
  },
  {
   "cell_type": "code",
   "execution_count": null,
   "metadata": {},
   "outputs": [],
   "source": []
  },
  {
   "cell_type": "code",
   "execution_count": null,
   "metadata": {},
   "outputs": [],
   "source": []
  },
  {
   "cell_type": "code",
   "execution_count": null,
   "metadata": {},
   "outputs": [],
   "source": []
  },
  {
   "cell_type": "code",
   "execution_count": 62,
   "metadata": {},
   "outputs": [],
   "source": [
    "from sklearn import preprocessing\n",
    "label_encoder = preprocessing.LabelEncoder()"
   ]
  },
  {
   "cell_type": "code",
   "execution_count": 63,
   "metadata": {},
   "outputs": [],
   "source": [
    "df1['vendor_project'] = label_encoder.fit_transform(df1['vendor_project'])\n",
    "df1['product'] = label_encoder.fit_transform(df1['product'])\n",
    "df1['cwe'] = label_encoder.fit_transform(df1['cwe'])\n",
    "df1['vector'] = label_encoder.fit_transform(df1['vector'])\n",
    "df1['complexity'] = label_encoder.fit_transform(df1['complexity'])\n",
    "df1['severity'] = label_encoder.fit_transform(df1['severity'])"
   ]
  },
  {
   "cell_type": "code",
   "execution_count": 67,
   "metadata": {},
   "outputs": [
    {
     "data": {
      "text/plain": [
       "<matplotlib.axes._subplots.AxesSubplot at 0x121f3c550>"
      ]
     },
     "execution_count": 67,
     "metadata": {},
     "output_type": "execute_result"
    },
    {
     "data": {
      "image/png": "[encoded data removed]",
      "text/plain": [
       "<Figure size 864x432 with 2 Axes>"
      ]
     },
     "metadata": {
      "needs_background": "light"
     },
     "output_type": "display_data"
    }
   ],
   "source": [
    "corr = df1.corr()\n",
    "plt.figure(figsize=(12,6))\n",
    "sns.heatmap(corr,annot=True,cmap=\"RdYlGn\")"
   ]
  },
  {
   "cell_type": "code",
   "execution_count": 65,
   "metadata": {},
   "outputs": [
    {
     "data": {
      "text/html": [
       "<div>\n",
       "<style scoped>\n",
       "    .dataframe tbody tr th:only-of-type {\n",
       "        vertical-align: middle;\n",
       "    }\n",
       "\n",
       "    .dataframe tbody tr th {\n",
       "        vertical-align: top;\n",
       "    }\n",
       "\n",
       "    .dataframe thead th {\n",
       "        text-align: right;\n",
       "    }\n",
       "</style>\n",
       "<table border=\"1\" class=\"dataframe\">\n",
       "  <thead>\n",
       "    <tr style=\"text-align: right;\">\n",
       "      <th></th>\n",
       "      <th>cve_id</th>\n",
       "      <th>vendor_project</th>\n",
       "      <th>product</th>\n",
       "      <th>vulnerability_name</th>\n",
       "      <th>date_added</th>\n",
       "      <th>required_action</th>\n",
       "      <th>due_date</th>\n",
       "      <th>grp</th>\n",
       "      <th>pub_date</th>\n",
       "      <th>cvss</th>\n",
       "      <th>cwe</th>\n",
       "      <th>vector</th>\n",
       "      <th>complexity</th>\n",
       "      <th>severity</th>\n",
       "      <th>dd_year</th>\n",
       "      <th>dd_month</th>\n",
       "      <th>dd_day</th>\n",
       "      <th>pd_year</th>\n",
       "      <th>pd_month</th>\n",
       "      <th>pd_day</th>\n",
       "    </tr>\n",
       "  </thead>\n",
       "  <tbody>\n",
       "    <tr>\n",
       "      <th>0</th>\n",
       "      <td>CVE-2021-27104</td>\n",
       "      <td>0</td>\n",
       "      <td>92</td>\n",
       "      <td>Accellion FTA OS Command Injection Vulnerability</td>\n",
       "      <td>2021-11-03</td>\n",
       "      <td>Apply updates per vendor instructions.</td>\n",
       "      <td>2021-11-17</td>\n",
       "      <td>1</td>\n",
       "      <td>2021-02-16</td>\n",
       "      <td>9.8</td>\n",
       "      <td>62</td>\n",
       "      <td>2</td>\n",
       "      <td>1</td>\n",
       "      <td>0</td>\n",
       "      <td>2021</td>\n",
       "      <td>11</td>\n",
       "      <td>17</td>\n",
       "      <td>2021</td>\n",
       "      <td>2</td>\n",
       "      <td>16</td>\n",
       "    </tr>\n",
       "    <tr>\n",
       "      <th>1</th>\n",
       "      <td>CVE-2021-27102</td>\n",
       "      <td>0</td>\n",
       "      <td>92</td>\n",
       "      <td>Accellion FTA OS Command Injection Vulnerability</td>\n",
       "      <td>2021-11-03</td>\n",
       "      <td>Apply updates per vendor instructions.</td>\n",
       "      <td>2021-11-17</td>\n",
       "      <td>1</td>\n",
       "      <td>2018-03-28</td>\n",
       "      <td>8.8</td>\n",
       "      <td>80</td>\n",
       "      <td>2</td>\n",
       "      <td>1</td>\n",
       "      <td>1</td>\n",
       "      <td>2021</td>\n",
       "      <td>11</td>\n",
       "      <td>17</td>\n",
       "      <td>2018</td>\n",
       "      <td>3</td>\n",
       "      <td>28</td>\n",
       "    </tr>\n",
       "    <tr>\n",
       "      <th>2</th>\n",
       "      <td>CVE-2021-27101</td>\n",
       "      <td>0</td>\n",
       "      <td>92</td>\n",
       "      <td>Accellion FTA SQL Injection Vulnerability</td>\n",
       "      <td>2021-11-03</td>\n",
       "      <td>Apply updates per vendor instructions.</td>\n",
       "      <td>2021-11-17</td>\n",
       "      <td>1</td>\n",
       "      <td>2018-03-28</td>\n",
       "      <td>8.8</td>\n",
       "      <td>80</td>\n",
       "      <td>2</td>\n",
       "      <td>1</td>\n",
       "      <td>1</td>\n",
       "      <td>2021</td>\n",
       "      <td>11</td>\n",
       "      <td>17</td>\n",
       "      <td>2018</td>\n",
       "      <td>3</td>\n",
       "      <td>28</td>\n",
       "    </tr>\n",
       "    <tr>\n",
       "      <th>3</th>\n",
       "      <td>CVE-2021-27103</td>\n",
       "      <td>0</td>\n",
       "      <td>92</td>\n",
       "      <td>Accellion FTA SSRF Vulnerability</td>\n",
       "      <td>2021-11-03</td>\n",
       "      <td>Apply updates per vendor instructions.</td>\n",
       "      <td>2021-11-17</td>\n",
       "      <td>1</td>\n",
       "      <td>2018-03-28</td>\n",
       "      <td>8.8</td>\n",
       "      <td>80</td>\n",
       "      <td>2</td>\n",
       "      <td>1</td>\n",
       "      <td>1</td>\n",
       "      <td>2021</td>\n",
       "      <td>11</td>\n",
       "      <td>17</td>\n",
       "      <td>2018</td>\n",
       "      <td>3</td>\n",
       "      <td>28</td>\n",
       "    </tr>\n",
       "    <tr>\n",
       "      <th>4</th>\n",
       "      <td>CVE-2021-21017</td>\n",
       "      <td>1</td>\n",
       "      <td>6</td>\n",
       "      <td>Adobe Acrobat and Reader Heap-based Buffer Ove...</td>\n",
       "      <td>2021-11-03</td>\n",
       "      <td>Apply updates per vendor instructions.</td>\n",
       "      <td>2021-11-17</td>\n",
       "      <td>1</td>\n",
       "      <td>2018-03-28</td>\n",
       "      <td>8.8</td>\n",
       "      <td>80</td>\n",
       "      <td>2</td>\n",
       "      <td>1</td>\n",
       "      <td>1</td>\n",
       "      <td>2021</td>\n",
       "      <td>11</td>\n",
       "      <td>17</td>\n",
       "      <td>2018</td>\n",
       "      <td>3</td>\n",
       "      <td>28</td>\n",
       "    </tr>\n",
       "  </tbody>\n",
       "</table>\n",
       "</div>"
      ],
      "text/plain": [
       "           cve_id  vendor_project  product  \\\n",
       "0  CVE-2021-27104               0       92   \n",
       "1  CVE-2021-27102               0       92   \n",
       "2  CVE-2021-27101               0       92   \n",
       "3  CVE-2021-27103               0       92   \n",
       "4  CVE-2021-21017               1        6   \n",
       "\n",
       "                                  vulnerability_name  date_added  \\\n",
       "0   Accellion FTA OS Command Injection Vulnerability  2021-11-03   \n",
       "1   Accellion FTA OS Command Injection Vulnerability  2021-11-03   \n",
       "2          Accellion FTA SQL Injection Vulnerability  2021-11-03   \n",
       "3                   Accellion FTA SSRF Vulnerability  2021-11-03   \n",
       "4  Adobe Acrobat and Reader Heap-based Buffer Ove...  2021-11-03   \n",
       "\n",
       "                          required_action   due_date  grp   pub_date  cvss  \\\n",
       "0  Apply updates per vendor instructions. 2021-11-17    1 2021-02-16   9.8   \n",
       "1  Apply updates per vendor instructions. 2021-11-17    1 2018-03-28   8.8   \n",
       "2  Apply updates per vendor instructions. 2021-11-17    1 2018-03-28   8.8   \n",
       "3  Apply updates per vendor instructions. 2021-11-17    1 2018-03-28   8.8   \n",
       "4  Apply updates per vendor instructions. 2021-11-17    1 2018-03-28   8.8   \n",
       "\n",
       "   cwe  vector  complexity  severity  dd_year  dd_month  dd_day  pd_year  \\\n",
       "0   62       2           1         0     2021        11      17     2021   \n",
       "1   80       2           1         1     2021        11      17     2018   \n",
       "2   80       2           1         1     2021        11      17     2018   \n",
       "3   80       2           1         1     2021        11      17     2018   \n",
       "4   80       2           1         1     2021        11      17     2018   \n",
       "\n",
       "   pd_month  pd_day  \n",
       "0         2      16  \n",
       "1         3      28  \n",
       "2         3      28  \n",
       "3         3      28  \n",
       "4         3      28  "
      ]
     },
     "execution_count": 65,
     "metadata": {},
     "output_type": "execute_result"
    }
   ],
   "source": [
    "df1.head()"
   ]
  },
  {
   "cell_type": "code",
   "execution_count": null,
   "metadata": {},
   "outputs": [],
   "source": []
  },
  {
   "cell_type": "code",
   "execution_count": null,
   "metadata": {},
   "outputs": [],
   "source": []
  },
  {
   "cell_type": "code",
   "execution_count": null,
   "metadata": {},
   "outputs": [],
   "source": []
  },
  {
   "cell_type": "code",
   "execution_count": null,
   "metadata": {},
   "outputs": [],
   "source": []
  },
  {
   "cell_type": "code",
   "execution_count": null,
   "metadata": {},
   "outputs": [],
   "source": []
  },
  {
   "cell_type": "code",
   "execution_count": null,
   "metadata": {},
   "outputs": [],
   "source": []
  },
  {
   "cell_type": "code",
   "execution_count": null,
   "metadata": {},
   "outputs": [],
   "source": []
  },
  {
   "cell_type": "code",
   "execution_count": null,
   "metadata": {},
   "outputs": [],
   "source": []
  },
  {
   "cell_type": "code",
   "execution_count": null,
   "metadata": {},
   "outputs": [],
   "source": []
  },
  {
   "cell_type": "code",
   "execution_count": null,
   "metadata": {},
   "outputs": [],
   "source": []
  },
  {
   "cell_type": "code",
   "execution_count": null,
   "metadata": {},
   "outputs": [],
   "source": []
  },
  {
   "cell_type": "code",
   "execution_count": null,
   "metadata": {},
   "outputs": [],
   "source": []
  },
  {
   "cell_type": "markdown",
   "metadata": {},
   "source": [
    "#Questions\n",
    "1. What are the types of vender project?\n",
    "2. What are the types of product names?\n",
    "3. What are the types of vulnerability?\n",
    "4. What are the types of required action?\n",
    "5. How many types of vendor projects?\n",
    "6. How many types of product names?\n",
    "7. How many types of vulnerability?\n",
    "8. How many types of required action?\n",
    "9. In which year most of the vulnerabilities are added?\n",
    "10. How many groups are there?\n",
    "11. What is the range of CVSS?\n",
    "12. What are the number of vulnerabilities over the years?\n",
    "13. Show the distribution of vulnerabilities across the vectors?\n",
    "14. What is the distribution of vulnerabilities by complexity level?\n",
    "15. Top vendors with the highest vulnerabilities\n",
    "16. Top products with the highest vulnerabilities\n",
    "17. Top group with the highest vulnerabilities\n",
    "18. Most common CWE catgeories among vulnerabilities\n",
    "19. What are the keywords associated to each vulnerability?\n",
    "\n"
   ]
  },
  {
   "cell_type": "code",
   "execution_count": null,
   "metadata": {},
   "outputs": [],
   "source": []
  },
  {
   "cell_type": "code",
   "execution_count": null,
   "metadata": {},
   "outputs": [],
   "source": []
  },
  {
   "cell_type": "code",
   "execution_count": null,
   "metadata": {},
   "outputs": [],
   "source": []
  },
  {
   "cell_type": "code",
   "execution_count": null,
   "metadata": {},
   "outputs": [],
   "source": []
  },
  {
   "cell_type": "code",
   "execution_count": null,
   "metadata": {},
   "outputs": [],
   "source": []
  },
  {
   "cell_type": "code",
   "execution_count": null,
   "metadata": {},
   "outputs": [],
   "source": []
  },
  {
   "cell_type": "code",
   "execution_count": null,
   "metadata": {},
   "outputs": [],
   "source": []
  },
  {
   "cell_type": "code",
   "execution_count": null,
   "metadata": {},
   "outputs": [],
   "source": []
  },
  {
   "cell_type": "code",
   "execution_count": null,
   "metadata": {},
   "outputs": [],
   "source": []
  },
  {
   "cell_type": "code",
   "execution_count": null,
   "metadata": {},
   "outputs": [],
   "source": []
  }
 ],
 "metadata": {
  "kernelspec": {
   "display_name": "Python 3",
   "language": "python",
   "name": "python3"
  },
  "language_info": {
   "codemirror_mode": {
    "name": "ipython",
    "version": 3
   },
   "file_extension": ".py",
   "mimetype": "text/x-python",
   "name": "python",
   "nbconvert_exporter": "python",
   "pygments_lexer": "ipython3",
   "version": "3.8.3"
  }
 },
 "nbformat": 4,
 "nbformat_minor": 4
}
